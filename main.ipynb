{
 "cells": [
  {
   "cell_type": "code",
   "execution_count": 1,
   "metadata": {},
   "outputs": [
    {
     "name": "stdout",
     "output_type": "stream",
     "text": [
      "pygame 2.3.0 (SDL 2.24.2, Python 3.11.8)\n",
      "Hello from the pygame community. https://www.pygame.org/contribute.html\n"
     ]
    },
    {
     "name": "stderr",
     "output_type": "stream",
     "text": [
      "C:\\Users\\kaush\\AppData\\Local\\Temp\\ipykernel_15444\\2412810607.py:5: TqdmDeprecationWarning: This function will be removed in tqdm==5.0.0\n",
      "Please use `tqdm.notebook.*` instead of `tqdm._tqdm_notebook.*`\n",
      "  from tqdm._tqdm_notebook import tqdm_notebook\n"
     ]
    }
   ],
   "source": [
    "from Environment.custom_env import CustomEnvironment\n",
    "import json\n",
    "import torch\n",
    "import numpy as np\n",
    "from tqdm._tqdm_notebook import tqdm_notebook\n",
    "\n",
    "from Models.ActorCritic import ActorCritic\n",
    "from Models.SoftActorCritic import SoftActorCritic\n",
    "from Models.DDQN import DoubleDQN"
   ]
  },
  {
   "cell_type": "code",
   "execution_count": 2,
   "metadata": {},
   "outputs": [
    {
     "data": {
      "text/plain": [
       "True"
      ]
     },
     "execution_count": 2,
     "metadata": {},
     "output_type": "execute_result"
    }
   ],
   "source": [
    "torch.cuda.is_available()"
   ]
  },
  {
   "cell_type": "code",
   "execution_count": 3,
   "metadata": {},
   "outputs": [
    {
     "data": {
      "text/plain": [
       "<function TextIOWrapper.close()>"
      ]
     },
     "execution_count": 3,
     "metadata": {},
     "output_type": "execute_result"
    }
   ],
   "source": [
    "f = open('Environment/env_config.json')\n",
    "env_variables = json.load(f)\n",
    "f.close"
   ]
  },
  {
   "cell_type": "code",
   "execution_count": 4,
   "metadata": {},
   "outputs": [],
   "source": [
    "env = CustomEnvironment(env_config=env_variables, render_mode=\"human\")\n",
    "# env = parallel_env(render_mode=\"human\")\n",
    "# env.reset(seed=42)"
   ]
  },
  {
   "cell_type": "code",
   "execution_count": 5,
   "metadata": {},
   "outputs": [],
   "source": [
    "import matplotlib.pyplot as plt \n",
    "from sklearn.preprocessing import MinMaxScaler\n",
    "mms = MinMaxScaler(feature_range=(0, 128))"
   ]
  },
  {
   "cell_type": "code",
   "execution_count": 6,
   "metadata": {},
   "outputs": [
    {
     "data": {
      "text/plain": [
       "<function TextIOWrapper.close()>"
      ]
     },
     "execution_count": 6,
     "metadata": {},
     "output_type": "execute_result"
    }
   ],
   "source": [
    "ac_config = open('Environment/ac_config.json')\n",
    "ac_variables = json.load(ac_config)\n",
    "ac_config.close\n",
    "\n",
    "sac_config = open('Environment/sac_config.json')\n",
    "sac_variables = json.load(sac_config)\n",
    "sac_config.close\n",
    "\n",
    "ddqn_config = open('Environment/ddqn_config.json')\n",
    "ddqn_variables = json.load(ddqn_config)\n",
    "ddqn_config.close"
   ]
  },
  {
   "cell_type": "code",
   "execution_count": 7,
   "metadata": {},
   "outputs": [],
   "source": [
    "ddqn = DoubleDQN(ddqn_variables)\n",
    "# ac = ActorCritic(ac_variables)\n",
    "# sac = SoftActorCritic(sac_variables)"
   ]
  },
  {
   "cell_type": "code",
   "execution_count": 8,
   "metadata": {},
   "outputs": [],
   "source": [
    "models = {0:ddqn, 1:ddqn, 2:ddqn}"
   ]
  },
  {
   "cell_type": "code",
   "execution_count": 9,
   "metadata": {},
   "outputs": [
    {
     "data": {
      "application/vnd.jupyter.widget-view+json": {
       "model_id": "f911b195fa7149d1ae64ef3d01eab34d",
       "version_major": 2,
       "version_minor": 0
      },
      "text/plain": [
       "  0%|          | 0/400 [00:00<?, ?it/s]"
      ]
     },
     "metadata": {},
     "output_type": "display_data"
    },
    {
     "name": "stdout",
     "output_type": "stream",
     "text": [
      "{0: -0.19810583925260752, 1: -0.29998375992969073, 2: -0.19485350753254888}\n",
      "agent2 died at time 99\n",
      "{0: -0.4432375626540308, 1: -0.3337267359933387, 2: -0.32269810217418626}\n",
      "agent1 died at time 141\n",
      "{0: -0.21824584594350172}\n",
      "agent0 died at time 162\n",
      "Episode 0 end\n",
      "Losses {2: tensor(4.0715), 1: tensor(14.1741), 0: tensor(18.9862)}\n",
      "\n",
      "{0: -0.1950462004896739, 1: -0.5017602399977099, 2: -0.3851883315397996}\n",
      "{0: -0.5077881312062971, 1: -0.3411888099640852, 2: -0.27154267986459196}\n",
      "agent0 died at time 120\n",
      "agent1 died at time 120\n",
      "agent2 died at time 141\n",
      "Episode 1 end\n",
      "Losses {0: tensor(43.7662), 1: tensor(41.0439), 2: tensor(37.2333)}\n",
      "\n",
      "{0: -0.42538683605738375, 1: -0.3411693844543208, 2: -0.3746019903499708}\n",
      "{0: -0.3351513609666754, 1: -0.5421317268930497, 2: -0.2801491156819956}\n",
      "agent0 died at time 120\n",
      "agent2 died at time 120\n",
      "{1: -0.49006807158677096}\n",
      "agent1 died at time 162\n",
      "Episode 2 end\n",
      "Losses {0: tensor(22.5497), 2: tensor(16.1040), 1: tensor(16.4637)}\n",
      "\n",
      "{0: -0.3577383516379395, 1: -0.32781747811368706, 2: -0.36410172819645814}\n",
      "agent1 died at time 99\n",
      "{0: -0.6341477262494098, 1: -0.12396309219265615, 2: -0.5695527314475876}\n",
      "agent0 died at time 120\n",
      "agent2 died at time 120\n",
      "Episode 3 end\n",
      "Losses {1: tensor(16.5338), 0: tensor(13.4497), 2: tensor(13.9453)}\n",
      "\n",
      "{0: -0.1767489438275618, 1: -0.19145008355236187, 2: -0.3044259967430311}\n",
      "{0: -0.3252132017527923, 1: 5, 2: -0.2743328318177843}\n",
      "agent2 died at time 120\n",
      "agent0 died at time 141\n",
      "agent1 died at time 141\n",
      "Episode 4 end\n",
      "Losses {2: tensor(11.8840), 0: tensor(17.1856), 1: tensor(10.5173)}\n",
      "\n",
      "{0: -0.3203382605392756, 1: -0.281310492520818, 2: -0.26476441791813804}\n",
      "agent0 died at time 99\n",
      "agent2 died at time 99\n",
      "{0: -0.3592487109497518, 1: -0.3179965640112768, 2: -0.23478391921838174}\n",
      "agent1 died at time 141\n",
      "Episode 5 end\n",
      "Losses {0: tensor(13.7230), 2: tensor(15.0336), 1: tensor(20.7932)}\n",
      "\n",
      "{0: -0.28270650373717426, 1: -0.4479194697510845, 2: -0.24819676986210562}\n",
      "agent1 died at time 99\n",
      "{0: -0.05232677050894824, 1: -0.3373072661822554, 2: -0.23740652575471732}\n",
      "agent0 died at time 120\n",
      "{2: -0.30223429771959076}\n",
      "agent2 died at time 183\n",
      "Episode 6 end\n",
      "Losses {1: tensor(11.6226), 0: tensor(8.0420), 2: tensor(14.2204)}\n",
      "\n",
      "{0: -0.37262658816276023, 1: -0.34452078272810244, 2: -0.2022633455513394}\n",
      "agent1 died at time 99\n",
      "{0: -0.3040401509523313, 1: -0.2674017687578551, 2: -0.2679473015555245}\n",
      "agent0 died at time 120\n",
      "agent2 died at time 120\n",
      "Episode 7 end\n",
      "Losses {1: tensor(7.3799), 0: tensor(5.3363), 2: tensor(5.1041)}\n",
      "\n",
      "{0: -0.17355556909552738, 1: -0.3831987840215269, 2: -0.2726253777003598}\n",
      "agent1 died at time 99\n",
      "{0: -0.20216105813838478, 1: -0.17170097693210457, 2: -0.2922467245653009}\n",
      "agent0 died at time 120\n",
      "agent2 died at time 141\n",
      "Episode 8 end\n",
      "Losses {1: tensor(4.5625), 0: tensor(8.9987), 2: tensor(9.7345)}\n",
      "\n",
      "{0: -0.19255225678668172, 1: -0.21178085534426114, 2: -0.2670413667617353}\n",
      "{0: -0.22479989563979008, 1: -0.3361655946508363, 2: -0.47030956970953364}\n",
      "agent0 died at time 120\n",
      "agent2 died at time 120\n",
      "agent1 died at time 141\n",
      "Episode 9 end\n",
      "Losses {0: tensor(6.0487), 2: tensor(11.6182), 1: tensor(10.8490)}\n",
      "\n",
      "{0: -0.3490904475306565, 1: -0.3056824011611452, 2: -0.19763755211146847}\n",
      "agent0 died at time 99\n",
      "{0: -0.19532817091487503, 1: -0.4545003085141162, 2: -0.39336006726068534}\n",
      "{1: -0.08840085280603904, 2: -1.0}\n",
      "agent2 died at time 162\n",
      "{1: -0.30349723748559837}\n",
      "agent1 died at time 225\n",
      "Episode 10 end\n",
      "Losses {0: tensor(8.0537), 2: tensor(8.4093), 1: tensor(9.1576)}\n",
      "\n",
      "{0: -0.16411035835345755, 1: -0.3051923644596156, 2: -0.15605572811811202}\n",
      "agent1 died at time 99\n",
      "{0: -0.4824825305798558, 1: -0.3418144249943366, 2: -0.40706877469921493}\n",
      "agent2 died at time 141\n",
      "{0: -0.28020961691194884}\n",
      "{0: -0.4483886069309867}\n",
      "{0: -0.34510616992161336}\n",
      "agent0 died at time 288\n",
      "Episode 11 end\n",
      "Losses {1: tensor(32.4902), 2: tensor(19.1713), 0: tensor(14.6836)}\n",
      "\n",
      "{0: -0.23166323938584135, 1: -0.12886149103941943, 2: -0.26847533228039866}\n",
      "{0: -0.6238077899345326, 1: -0.2832904029378666, 2: -0.39422339012485186}\n",
      "{0: -0.5896493510546515, 1: -0.37931997302993703, 2: -0.3630676216011944}\n",
      "agent0 died at time 162\n",
      "agent1 died at time 162\n",
      "agent2 died at time 162\n",
      "Episode 12 end\n",
      "Losses {0: tensor(33.7534), 1: tensor(38.4413), 2: tensor(40.6051)}\n",
      "\n",
      "{0: -0.5671887978980248, 1: -0.3113131779132384, 2: -0.3938007354849091}\n",
      "{0: -0.493590424582342, 1: -0.20573933093673222, 2: -0.22005552258601244}\n",
      "agent2 died at time 120\n",
      "agent1 died at time 141\n",
      "{0: -0.49480219083797017}\n",
      "agent0 died at time 162\n",
      "Episode 13 end\n",
      "Losses {2: tensor(57.8832), 1: tensor(61.1280), 0: tensor(41.6176)}\n",
      "\n"
     ]
    }
   ],
   "source": [
    "episodes = 400\n",
    "\n",
    "for episode in tqdm_notebook(range(episodes)): #episodes loop\"\n",
    "\n",
    "    curr_obs,infos = env.reset() #reset environment after each episode\\n\",\n",
    "    # print(curr_obs[0][1])\n",
    "\n",
    "    losses = {}\n",
    "    while(env.agents): #until there are any surviving agents \n",
    "\n",
    "        actions = {}\n",
    "        log_probs = {}\n",
    "\n",
    "        for a in env.agents:\n",
    "            # print(curr_obs[a])\n",
    "            act, log_prob = models[a].select_action(state = torch.tensor(curr_obs[a], dtype = torch.float32))\n",
    "            actions[a] = act\n",
    "            log_probs[a] = log_prob\n",
    "\n",
    "        # for i in range(env.n_agents): #objects contains all of the models, get the corresponding actions from each policy\\n\",\n",
    "            \n",
    "        #     if i in env.agents:\n",
    "        #         act, log_prob = env.agents_objects[i].brain1.select_action(state = torch.tensor(curr_obs[i], dtype = torch.float32))\n",
    "        #         actions[i] = act\n",
    "        #         log_probs[i] = log_prob\n",
    "        #     else:\n",
    "        #         actions[i] = env.num_actions\n",
    "        #         log_probs[i] = 69\n",
    "            \n",
    "        # print(actions)\n",
    "\n",
    "        next_obs, rewards, terminations, truncations, infos = env.step(actions)\n",
    "        if env.timestep % 50 == 0:\n",
    "            print(rewards)\n",
    "        \n",
    "        # print(next_obs)\n",
    "        # print(env.agents_objects)\n",
    "        # print(curr_obs)\n",
    "        # print(rewards)\n",
    "        # print(terminations)\n",
    "        # print(truncations)\n",
    "        # print(infos)\n",
    "\n",
    "        for id, obs in next_obs.items():\n",
    "            models[id].push_to_buffer(torch.tensor(curr_obs[id], dtype = torch.float32),actions[id],rewards[id],torch.tensor(obs, dtype = torch.float32),log_probs[id],terminations[id])\n",
    "            loss = models[id].update_weights()\n",
    "\n",
    "            if(terminations[id] == True):\n",
    "                # loss = models[id].update_weights()\n",
    "                losses[id] = loss\n",
    "        \n",
    "        # for i in range(env.n_agents):\n",
    "\n",
    "        #     if i in env.agents:\n",
    "        #         env.agents_objects[i].brain1.push_to_buffer(torch.tensor(curr_obs[i], dtype = torch.float32),actions[i],rewards[i],torch.tensor(next_obs[i], dtype = torch.float32),log_probs[i],terminations[i])\n",
    "        #         env.agents_objects[i].brain1.update_weights() \n",
    "            \n",
    "        #     if i in env.justdie:\n",
    "        #         env.justdie[i].brain1.push_to_buffer(torch.tensor(curr_obs[i], dtype = torch.float32),actions[i],rewards[i],torch.tensor(next_obs[i], dtype = torch.float32),log_probs[i],terminations[i])\n",
    "        #         loss = env.justdie[i].brain1.update_weights() \n",
    "        #         del env.justdie[i]\n",
    "        #         losses[i] = loss\n",
    "        \n",
    "        curr_obs = next_obs\n",
    "\n",
    "    print(f\"Episode {episode} end\")\n",
    "    print(f\"Losses {losses}\")\n",
    "    print()\n",
    "    env.close()"
   ]
  },
  {
   "cell_type": "code",
   "execution_count": null,
   "metadata": {},
   "outputs": [],
   "source": [
    "models[0].steps_done"
   ]
  }
 ],
 "metadata": {
  "kernelspec": {
   "display_name": "RL",
   "language": "python",
   "name": "python3"
  },
  "language_info": {
   "codemirror_mode": {
    "name": "ipython",
    "version": 3
   },
   "file_extension": ".py",
   "mimetype": "text/x-python",
   "name": "python",
   "nbconvert_exporter": "python",
   "pygments_lexer": "ipython3",
   "version": "3.10.9"
  }
 },
 "nbformat": 4,
 "nbformat_minor": 2
}
