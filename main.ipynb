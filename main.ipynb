{
 "cells": [
  {
   "cell_type": "code",
   "execution_count": 1,
   "metadata": {},
   "outputs": [
    {
     "name": "stdout",
     "output_type": "stream",
     "text": [
      "pygame 2.5.2 (SDL 2.28.3, Python 3.10.9)\n",
      "Hello from the pygame community. https://www.pygame.org/contribute.html\n"
     ]
    },
    {
     "name": "stderr",
     "output_type": "stream",
     "text": [
      "C:\\Users\\srini\\AppData\\Local\\Temp\\ipykernel_4568\\127627936.py:5: TqdmDeprecationWarning: This function will be removed in tqdm==5.0.0\n",
      "Please use `tqdm.notebook.*` instead of `tqdm._tqdm_notebook.*`\n",
      "  from tqdm._tqdm_notebook import tqdm_notebook\n"
     ]
    }
   ],
   "source": [
    "from Environment.custom_env import CustomEnvironment\n",
    "import json\n",
    "import torch\n",
    "import numpy as np\n",
    "from tqdm._tqdm_notebook import tqdm_notebook"
   ]
  },
  {
   "cell_type": "code",
   "execution_count": 2,
   "metadata": {},
   "outputs": [
    {
     "data": {
      "text/plain": [
       "True"
      ]
     },
     "execution_count": 2,
     "metadata": {},
     "output_type": "execute_result"
    }
   ],
   "source": [
    "torch.cuda.is_available()"
   ]
  },
  {
   "cell_type": "code",
   "execution_count": 3,
   "metadata": {},
   "outputs": [
    {
     "data": {
      "text/plain": [
       "<function TextIOWrapper.close()>"
      ]
     },
     "execution_count": 3,
     "metadata": {},
     "output_type": "execute_result"
    }
   ],
   "source": [
    "f = open('Environment/env_config.json')\n",
    "env_variables = json.load(f)\n",
    "f.close"
   ]
  },
  {
   "cell_type": "code",
   "execution_count": 4,
   "metadata": {},
   "outputs": [],
   "source": [
    "env = CustomEnvironment(env_config=env_variables)\n",
    "# env = parallel_env(render_mode=\"human\")\n",
    "# env.reset(seed=42)"
   ]
  },
  {
   "cell_type": "code",
   "execution_count": 5,
   "metadata": {},
   "outputs": [
    {
     "data": {
      "text/plain": [
       "[0, 1, 2]"
      ]
     },
     "execution_count": 5,
     "metadata": {},
     "output_type": "execute_result"
    }
   ],
   "source": [
    "env.agents"
   ]
  },
  {
   "cell_type": "code",
   "execution_count": 6,
   "metadata": {},
   "outputs": [
    {
     "data": {
      "application/vnd.jupyter.widget-view+json": {
       "model_id": "ad7ec2d678eb4ccda9e4e6424478202f",
       "version_major": 2,
       "version_minor": 0
      },
      "text/plain": [
       "  0%|          | 0/100 [00:00<?, ?it/s]"
      ]
     },
     "metadata": {},
     "output_type": "display_data"
    },
    {
     "name": "stdout",
     "output_type": "stream",
     "text": [
      "agent0 consumed pellet129\n",
      "agent1 consumed pellet166\n",
      "agent2 consumed pellet142\n",
      "agent0 consumed pellet123\n",
      "agent2 consumed pellet124\n",
      "agent1 consumed pellet93\n",
      "agent1 consumed pellet206\n",
      "agent2 consumed pellet7\n",
      "agent0 died at time 191\n",
      "agent2 consumed pellet177\n",
      "agent1 died at time 212\n",
      "agent2 died at time 233\n",
      "Episode 0 end\n",
      "Losses {0: tensor(16.2876), 1: tensor([[35.7174]]), 2: tensor(513.3079)}\n",
      "\n",
      "agent2 consumed pellet255\n",
      "agent0 consumed pellet296\n",
      "agent1 consumed pellet103\n",
      "agent2 consumed pellet50\n",
      "agent0 consumed pellet124\n",
      "agent2 consumed pellet51\n",
      "agent1 died at time 170\n",
      "agent2 consumed pellet25\n",
      "agent0 died at time 191\n",
      "agent2 died at time 233\n",
      "Episode 1 end\n",
      "Losses {1: tensor([[29.2808]]), 0: tensor(71.3849), 2: tensor(712.0789)}\n",
      "\n",
      "agent0 consumed pellet33\n",
      "agent0 consumed pellet131\n",
      "agent2 consumed pellet27\n",
      "agent1 consumed pellet279\n",
      "agent0 consumed pellet144\n",
      "agent0 consumed pellet41\n",
      "agent1 consumed pellet38\n",
      "agent2 died at time 170\n",
      "agent1 died at time 191\n",
      "agent0 died at time 233\n",
      "Episode 2 end\n",
      "Losses {2: tensor(298.7422), 1: tensor([[32.7046]]), 0: tensor(9.9306)}\n",
      "\n",
      "agent1 consumed pellet76\n",
      "agent2 consumed pellet260\n",
      "agent0 consumed pellet120\n",
      "agent2 consumed pellet74\n",
      "agent2 consumed pellet110\n",
      "agent0 consumed pellet65\n",
      "agent1 died at time 170\n",
      "agent2 consumed pellet12\n",
      "agent0 died at time 191\n",
      "agent2 consumed pellet134\n",
      "agent2 died at time 254\n",
      "Episode 3 end\n",
      "Losses {1: tensor([[9.6462]]), 0: tensor(14.1374), 2: tensor(288.2409)}\n",
      "\n",
      "agent0 consumed pellet2\n",
      "agent1 consumed pellet219\n",
      "agent1 consumed pellet257\n",
      "agent1 consumed pellet282\n",
      "agent2 consumed pellet174\n",
      "agent0 died at time 170\n",
      "agent2 died at time 170\n",
      "agent1 consumed pellet120\n",
      "agent1 died at time 233\n",
      "Episode 4 end\n",
      "Losses {0: tensor(14.5012), 2: tensor(386.2270), 1: tensor([[11.1093]])}\n",
      "\n",
      "agent1 consumed pellet37\n",
      "agent1 consumed pellet260\n",
      "agent0 consumed pellet115\n",
      "agent2 died at time 149\n",
      "agent1 consumed pellet80\n",
      "agent0 died at time 170\n",
      "agent1 consumed pellet298\n",
      "agent1 died at time 233\n",
      "Episode 5 end\n",
      "Losses {2: tensor(959.2977), 0: tensor(147.5536), 1: tensor([[11.9924]])}\n",
      "\n"
     ]
    }
   ],
   "source": [
    "episodes = 100\n",
    "\n",
    "for episode in tqdm_notebook(range(episodes)): #episodes loop\"\n",
    "\n",
    "    curr_obs,infos = env.reset() #reset environment after each episode\\n\",\n",
    "\n",
    "    losses = {}\n",
    "    while(env.agents): #until there are any surviving agents \n",
    "\n",
    "        actions = {}\n",
    "        log_probs = {}\n",
    "\n",
    "        for i in range(env.n_agents): #objects contains all of the models, get the corresponding actions from each policy\\n\",\n",
    "            \n",
    "            if i in env.agents:\n",
    "                act, log_prob = env.agents_objects[i].brain1.select_action(state = torch.tensor(curr_obs[i], dtype = torch.float32))\n",
    "                actions[i] = act\n",
    "                log_probs[i] = log_prob\n",
    "            else:\n",
    "                actions[i] = env.num_actions\n",
    "                log_probs[i] = 69\n",
    "            \n",
    "        # print(actions)\n",
    "\n",
    "        next_obs, rewards, terminations, truncations, infos = env.step(actions)\n",
    "        \n",
    "        # print(env.agents_objects)\n",
    "        # print(curr_obs)\n",
    "        # print(rewards)\n",
    "        # print(terminations)\n",
    "        # print(truncations)\n",
    "        # print(infos)\n",
    "        \n",
    "        for i in range(env.n_agents):\n",
    "\n",
    "            if i in env.agents:\n",
    "                env.agents_objects[i].brain1.push_to_buffer(torch.tensor(curr_obs[i], dtype = torch.float32),actions[i],rewards[i],torch.tensor(next_obs[i], dtype = torch.float32),log_probs[i],terminations[i])\n",
    "                env.agents_objects[i].brain1.update_weights() \n",
    "            \n",
    "            if i in env.justdie:\n",
    "                env.justdie[i].brain1.push_to_buffer(torch.tensor(curr_obs[i], dtype = torch.float32),actions[i],rewards[i],torch.tensor(next_obs[i], dtype = torch.float32),log_probs[i],terminations[i])\n",
    "                loss = env.justdie[i].brain1.update_weights() \n",
    "                del env.justdie[i]\n",
    "                losses[i] = loss\n",
    "        \n",
    "        curr_obs = next_obs\n",
    "\n",
    "    print(f\"Episode {episode} end\")\n",
    "    print(f\"Losses {losses}\")\n",
    "    print()"
   ]
  }
 ],
 "metadata": {
  "kernelspec": {
   "display_name": "RL",
   "language": "python",
   "name": "python3"
  },
  "language_info": {
   "codemirror_mode": {
    "name": "ipython",
    "version": 3
   },
   "file_extension": ".py",
   "mimetype": "text/x-python",
   "name": "python",
   "nbconvert_exporter": "python",
   "pygments_lexer": "ipython3",
   "version": "3.9.19"
  }
 },
 "nbformat": 4,
 "nbformat_minor": 2
}
