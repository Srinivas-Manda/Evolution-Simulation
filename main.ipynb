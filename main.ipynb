{
 "cells": [
  {
   "cell_type": "code",
   "execution_count": 1,
   "metadata": {},
   "outputs": [
    {
     "name": "stdout",
     "output_type": "stream",
     "text": [
      "pygame 2.5.2 (SDL 2.28.3, Python 3.10.9)\n",
      "Hello from the pygame community. https://www.pygame.org/contribute.html\n"
     ]
    },
    {
     "name": "stderr",
     "output_type": "stream",
     "text": [
      "C:\\Users\\srini\\AppData\\Local\\Temp\\ipykernel_27280\\127627936.py:5: TqdmDeprecationWarning: This function will be removed in tqdm==5.0.0\n",
      "Please use `tqdm.notebook.*` instead of `tqdm._tqdm_notebook.*`\n",
      "  from tqdm._tqdm_notebook import tqdm_notebook\n"
     ]
    }
   ],
   "source": [
    "from Environment.custom_env import CustomEnvironment\n",
    "import json\n",
    "import torch\n",
    "import numpy as np\n",
    "from tqdm._tqdm_notebook import tqdm_notebook"
   ]
  },
  {
   "cell_type": "code",
   "execution_count": 2,
   "metadata": {},
   "outputs": [
    {
     "data": {
      "text/plain": [
       "True"
      ]
     },
     "execution_count": 2,
     "metadata": {},
     "output_type": "execute_result"
    }
   ],
   "source": [
    "torch.cuda.is_available()"
   ]
  },
  {
   "cell_type": "code",
   "execution_count": 3,
   "metadata": {},
   "outputs": [
    {
     "data": {
      "text/plain": [
       "<function TextIOWrapper.close()>"
      ]
     },
     "execution_count": 3,
     "metadata": {},
     "output_type": "execute_result"
    }
   ],
   "source": [
    "f = open('Environment/env_config.json')\n",
    "env_variables = json.load(f)\n",
    "f.close"
   ]
  },
  {
   "cell_type": "code",
   "execution_count": 4,
   "metadata": {},
   "outputs": [],
   "source": [
    "env = CustomEnvironment(env_config=env_variables)\n",
    "# env = parallel_env(render_mode=\"human\")\n",
    "# env.reset(seed=42)"
   ]
  },
  {
   "cell_type": "code",
   "execution_count": 5,
   "metadata": {},
   "outputs": [
    {
     "data": {
      "text/plain": [
       "[0, 1, 2]"
      ]
     },
     "execution_count": 5,
     "metadata": {},
     "output_type": "execute_result"
    }
   ],
   "source": [
    "env.agents"
   ]
  },
  {
   "cell_type": "code",
   "execution_count": 6,
   "metadata": {},
   "outputs": [
    {
     "data": {
      "application/vnd.jupyter.widget-view+json": {
       "model_id": "ec1cd77950e545079b0206a288311a29",
       "version_major": 2,
       "version_minor": 0
      },
      "text/plain": [
       "  0%|          | 0/100 [00:00<?, ?it/s]"
      ]
     },
     "metadata": {},
     "output_type": "display_data"
    },
    {
     "name": "stdout",
     "output_type": "stream",
     "text": [
      "agent2 consumed pellet42\n",
      "agent0 died at time 99\n",
      "agent1 died at time 99\n",
      "agent2 died at time 120\n",
      "agent0 died at time 99\n",
      "agent1 died at time 99\n",
      "agent2 died at time 99\n",
      "agent1 consumed pellet84\n",
      "agent0 died at time 99\n",
      "agent2 died at time 99\n",
      "agent1 died at time 120\n",
      "agent2 consumed pellet33\n"
     ]
    },
    {
     "ename": "",
     "evalue": "",
     "output_type": "error",
     "traceback": [
      "\u001b[1;31mThe Kernel crashed while executing code in the current cell or a previous cell. \n",
      "\u001b[1;31mPlease review the code in the cell(s) to identify a possible cause of the failure. \n",
      "\u001b[1;31mClick <a href='https://aka.ms/vscodeJupyterKernelCrash'>here</a> for more info. \n",
      "\u001b[1;31mView Jupyter <a href='command:jupyter.viewOutput'>log</a> for further details."
     ]
    }
   ],
   "source": [
    "episodes = 100\n",
    "\n",
    "for i in tqdm_notebook(range(episodes)): #episodes loop\"\n",
    "\n",
    "    curr_obs,infos = env.reset() #reset environment after each episode\\n\",\n",
    "\n",
    "    while(env.agents): #until there are any surviving agents \n",
    "\n",
    "        actions = {}\n",
    "        log_probs = {}\n",
    "\n",
    "        for i in range(env.n_agents): #objects contains all of the models, get the corresponding actions from each policy\\n\",\n",
    "            \n",
    "            if i in env.agents:\n",
    "                act, log_prob = env.agents_objects[i].brain1.select_action(state = torch.tensor(curr_obs[i], dtype = torch.float32))\n",
    "                actions[i] = act\n",
    "                log_probs[i] = log_prob\n",
    "            else:\n",
    "                actions[i] = env.num_actions\n",
    "                log_probs[i] = 69\n",
    "            \n",
    "        # print(actions)\n",
    "\n",
    "        next_obs, rewards, terminations, truncations, infos = env.step(actions)\n",
    "        \n",
    "        # print(env.agents_objects)\n",
    "        # print(curr_obs)\n",
    "        # print(rewards)\n",
    "        # print(terminations)\n",
    "        # print(truncations)\n",
    "        # print(infos)\n",
    "\n",
    "        for i in range(env.n_agents):\n",
    "\n",
    "            if i in env.agents:\n",
    "                env.agents_objects[i].brain1.push_to_buffer(torch.tensor(curr_obs[i], dtype = torch.float32),actions[i],rewards[i],torch.tensor(next_obs[i], dtype = torch.float32),log_probs[i],terminations[i])\n",
    "                env.agents_objects[i].brain1.update_weights() \n",
    "            \n",
    "            if i in env.justdie:\n",
    "                env.justdie[i].brain1.push_to_buffer(torch.tensor(curr_obs[i], dtype = torch.float32),actions[i],rewards[i],torch.tensor(next_obs[i], dtype = torch.float32),log_probs[i],terminations[i])\n",
    "                env.justdie[i].brain1.update_weights() \n",
    "                del env.justdie[i]\n",
    "                \n",
    "        \n",
    "        curr_obs = next_obs\n"
   ]
  }
 ],
 "metadata": {
  "kernelspec": {
   "display_name": "RL",
   "language": "python",
   "name": "python3"
  },
  "language_info": {
   "codemirror_mode": {
    "name": "ipython",
    "version": 3
   },
   "file_extension": ".py",
   "mimetype": "text/x-python",
   "name": "python",
   "nbconvert_exporter": "python",
   "pygments_lexer": "ipython3",
   "version": "3.10.9"
  }
 },
 "nbformat": 4,
 "nbformat_minor": 2
}
