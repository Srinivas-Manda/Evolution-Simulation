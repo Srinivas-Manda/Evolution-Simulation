{
 "cells": [
  {
   "cell_type": "code",
   "execution_count": null,
   "metadata": {},
   "outputs": [],
   "source": [
    "from Environment.custom_env import CustomEnvironment\n",
    "import json\n",
    "import torch\n",
    "import numpy as np\n",
    "from tqdm._tqdm_notebook import tqdm_notebook"
   ]
  },
  {
   "cell_type": "code",
   "execution_count": null,
   "metadata": {},
   "outputs": [],
   "source": [
    "torch.cuda.is_available()"
   ]
  },
  {
   "cell_type": "code",
   "execution_count": null,
   "metadata": {},
   "outputs": [],
   "source": [
    "f = open('Environment/env_config.json')\n",
    "env_variables = json.load(f)\n",
    "f.close"
   ]
  },
  {
   "cell_type": "code",
   "execution_count": null,
   "metadata": {},
   "outputs": [],
   "source": [
    "# f = open('Models/model_config.json')\n",
    "# model_variables = json.load(f)\n",
    "# f.close"
   ]
  },
  {
   "cell_type": "code",
   "execution_count": null,
   "metadata": {},
   "outputs": [],
   "source": [
    "# ac_0 = ActorCritic(model_variables)\n",
    "# ac_1 = ActorCritic(model_variables)\n",
    "# ac_2 = ActorCritic(model_variables)\n",
    "# ac_3 = ActorCritic(model_variables)\n",
    "# ac_4 = ActorCritic(model_variables)\n",
    "\n",
    "# #agent_id to object mapping\n",
    "# objects = {\n",
    "    \n",
    "#     0 : ac_0,\n",
    "#     1 : ac_1,\n",
    "#     2 : ac_2,\n",
    "#     3 : ac_3,\n",
    "#     4 : ac_4\n",
    "# }  "
   ]
  },
  {
   "cell_type": "code",
   "execution_count": null,
   "metadata": {},
   "outputs": [],
   "source": [
    "env = CustomEnvironment(env_config=env_variables)\n",
    "# env = parallel_env(render_mode=\"human\")\n",
    "# env.reset(seed=42)"
   ]
  },
  {
   "cell_type": "code",
   "execution_count": null,
   "metadata": {},
   "outputs": [],
   "source": [
    "# parallel_api_test(env, num_cycles=1000)"
   ]
  },
  {
   "cell_type": "code",
   "execution_count": null,
   "metadata": {},
   "outputs": [],
   "source": [
    "# observations, infos = env.reset()\n",
    "# while env.agents:\n",
    "#     # print(env.timestep)\n",
    "#     # this is where you would insert your policy\n",
    "#     actions = {agent: env.action_space(agent).sample() for agent in env.agents}\n",
    "    \n",
    "#     observations, rewards, terminations, truncations, infos = env.step(actions)\n",
    "\n",
    "# env.close()"
   ]
  },
  {
   "cell_type": "code",
   "execution_count": null,
   "metadata": {},
   "outputs": [],
   "source": [
    "env.agents"
   ]
  },
  {
   "cell_type": "code",
   "execution_count": null,
   "metadata": {},
   "outputs": [],
   "source": [
    "episodes = 100\n",
    "\n",
    "for i in tqdm_notebook(range(episodes)): #episodes loop\"\n",
    "\n",
    "    curr_obs,infos = env.reset() #reset environment after each episode\\n\",\n",
    "\n",
    "    while(env.agents): #until there are any surviving agents \n",
    "\n",
    "        actions = {}\n",
    "        log_probs = {}\n",
    "\n",
    "        for i in range(env.n_agents): #objects contains all of the models, get the corresponding actions from each policy\\n\",\n",
    "            \n",
    "            if i in env.agents:\n",
    "                act, log_prob = env.agents_objects[i].brain1.select_action(state = torch.tensor(curr_obs[i], dtype = torch.float32))\n",
    "                actions[i] = act\n",
    "                log_probs[i] = log_prob\n",
    "            else:\n",
    "                actions[i] = env.num_actions\n",
    "                log_probs[i] = 69\n",
    "            \n",
    "        # print(actions)\n",
    "\n",
    "        next_obs, rewards, terminations, truncations, infos = env.step(actions)\n",
    "        \n",
    "        # print(env.agents_objects)\n",
    "        # print(curr_obs)\n",
    "        # print(rewards)\n",
    "        # print(terminations)\n",
    "        # print(truncations)\n",
    "        # print(infos)\n",
    "\n",
    "        for i in range(env.n_agents):\n",
    "\n",
    "            if i in env.agents:\n",
    "                env.agents_objects[i].brain1.push_to_buffer(torch.tensor(curr_obs[i], dtype = torch.float32),actions[i],rewards[i],torch.tensor(next_obs[i], dtype = torch.float32),log_probs[i],terminations[i])\n",
    "                env.agents_objects[i].brain1.update_weights() \n",
    "            \n",
    "            if i in env.justdie:\n",
    "                env.justdie[i].brain1.push_to_buffer(torch.tensor(curr_obs[i], dtype = torch.float32),actions[i],rewards[i],torch.tensor(next_obs[i], dtype = torch.float32),log_probs[i],terminations[i])\n",
    "                env.justdie[i].brain1.update_weights() \n",
    "                del env.justdie[i]\n",
    "                \n",
    "        \n",
    "        curr_obs = next_obs\n"
   ]
  }
 ],
 "metadata": {
  "kernelspec": {
   "display_name": "RL",
   "language": "python",
   "name": "python3"
  },
  "language_info": {
   "codemirror_mode": {
    "name": "ipython",
    "version": 3
   },
   "file_extension": ".py",
   "mimetype": "text/x-python",
   "name": "python",
   "nbconvert_exporter": "python",
   "pygments_lexer": "ipython3",
   "version": "3.10.9"
  }
 },
 "nbformat": 4,
 "nbformat_minor": 2
}
