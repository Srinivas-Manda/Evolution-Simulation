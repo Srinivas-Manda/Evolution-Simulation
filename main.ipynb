{
 "cells": [
  {
   "cell_type": "code",
   "execution_count": 1,
   "metadata": {},
   "outputs": [
    {
     "name": "stdout",
     "output_type": "stream",
     "text": [
      "pygame 2.5.2 (SDL 2.28.3, Python 3.10.9)\n",
      "Hello from the pygame community. https://www.pygame.org/contribute.html\n"
     ]
    }
   ],
   "source": [
    "from Environment.custom_env import CustomEnvironment\n",
    "import json\n",
    "import torch\n",
    "import numpy as np\n",
    "from tqdm.notebook import tqdm\n",
    "import matplotlib.pyplot as plt\n",
    "from matplotlib.lines import Line2D\n",
    "\n",
    "from Models.ActorCritic import ActorCritic\n",
    "from Models.SoftActorCritic import SoftActorCritic\n",
    "from Models.DDQN import DoubleDQN"
   ]
  },
  {
   "cell_type": "code",
   "execution_count": 2,
   "metadata": {},
   "outputs": [
    {
     "data": {
      "text/plain": [
       "True"
      ]
     },
     "execution_count": 2,
     "metadata": {},
     "output_type": "execute_result"
    }
   ],
   "source": [
    "torch.cuda.is_available()"
   ]
  },
  {
   "cell_type": "code",
   "execution_count": 3,
   "metadata": {},
   "outputs": [
    {
     "data": {
      "text/plain": [
       "<function TextIOWrapper.close()>"
      ]
     },
     "execution_count": 3,
     "metadata": {},
     "output_type": "execute_result"
    }
   ],
   "source": [
    "f = open('Environment/env_config.json')\n",
    "env_variables = json.load(f)\n",
    "f.close"
   ]
  },
  {
   "cell_type": "code",
   "execution_count": 4,
   "metadata": {},
   "outputs": [
    {
     "name": "stdout",
     "output_type": "stream",
     "text": [
      "0.5\n"
     ]
    }
   ],
   "source": [
    "env = CustomEnvironment(env_config=env_variables, render_mode=\"human\")\n",
    "# env = parallel_env(render_mode=\"human\")\n",
    "# env.reset(seed=42)"
   ]
  },
  {
   "cell_type": "code",
   "execution_count": 5,
   "metadata": {},
   "outputs": [],
   "source": [
    "import matplotlib.pyplot as plt \n",
    "from sklearn.preprocessing import MinMaxScaler\n",
    "mms = MinMaxScaler(feature_range=(0, 128))"
   ]
  },
  {
   "cell_type": "code",
   "execution_count": 6,
   "metadata": {},
   "outputs": [
    {
     "data": {
      "text/plain": [
       "<function TextIOWrapper.close()>"
      ]
     },
     "execution_count": 6,
     "metadata": {},
     "output_type": "execute_result"
    }
   ],
   "source": [
    "ac_config = open('Environment/ac_config.json')\n",
    "ac_variables = json.load(ac_config)\n",
    "ac_config.close\n",
    "\n",
    "sac_config = open('Environment/sac_config.json')\n",
    "sac_variables = json.load(sac_config)\n",
    "sac_config.close\n",
    "\n",
    "ddqn_config = open('Environment/ddqn_config.json')\n",
    "ddqn_variables = json.load(ddqn_config)\n",
    "ddqn_config.close"
   ]
  },
  {
   "cell_type": "code",
   "execution_count": 7,
   "metadata": {},
   "outputs": [],
   "source": [
    "ddqn_1 = DoubleDQN(ddqn_variables)\n",
    "# ddqn_2 = DoubleDQN(ddqn_variables)\n",
    "# ddqn_3 = DoubleDQN(ddqn_variables)\n",
    "ac = ActorCritic(ac_variables)\n",
    "# sac = SoftActorCritic(sac_variables)"
   ]
  },
  {
   "cell_type": "code",
   "execution_count": 8,
   "metadata": {},
   "outputs": [],
   "source": [
    "# models = {i:ddqn_1 for i in range(env.n_agents)}\n",
    "models = {0: ddqn_1, 1: ac}"
   ]
  },
  {
   "cell_type": "code",
   "execution_count": 9,
   "metadata": {},
   "outputs": [],
   "source": [
    "# ddqn_1.policy_net.device"
   ]
  },
  {
   "cell_type": "code",
   "execution_count": 10,
   "metadata": {},
   "outputs": [],
   "source": [
    "def plot_grad_flow(named_parameters):\n",
    "    '''Plots the gradients flowing through different layers in the net during training.\n",
    "    Can be used for checking for possible gradient vanishing / exploding problems.\n",
    "    \n",
    "    Usage: Plug this function in Trainer class after loss.backwards() as \n",
    "    \"plot_grad_flow(self.model.named_parameters())\" to visualize the gradient flow'''\n",
    "    ave_grads = []\n",
    "    max_grads= []\n",
    "    layers = []\n",
    "    for i, p in enumerate(named_parameters):\n",
    "        \n",
    "        if(p.requires_grad):\n",
    "            layers.append(i)\n",
    "            ave_grads.append(p.grad.cpu().abs().mean())\n",
    "            max_grads.append(p.grad.cpu().abs().max())\n",
    "\n",
    "    plt.bar(np.arange(len(max_grads)), max_grads, alpha=0.1, lw=1, color=\"c\")\n",
    "    plt.bar(np.arange(len(max_grads)), ave_grads, alpha=0.1, lw=1, color=\"b\")\n",
    "    plt.hlines(0, 0, len(ave_grads)+1, lw=2, color=\"k\" )\n",
    "    plt.xticks(range(0,len(ave_grads), 1), layers, rotation=\"vertical\")\n",
    "    plt.xlim(left=0, right=len(ave_grads))\n",
    "    plt.ylim(bottom = -0.001, top=0.02) # zoom in on the lower gradient regions\n",
    "    plt.xlabel(\"Layers\")\n",
    "    plt.ylabel(\"average gradient\")\n",
    "    plt.title(\"Gradient flow\")\n",
    "    plt.grid(True)\n",
    "    plt.legend([Line2D([0], [0], color=\"c\", lw=4),\n",
    "                Line2D([0], [0], color=\"b\", lw=4),\n",
    "                Line2D([0], [0], color=\"k\", lw=4)], ['max-gradient', 'mean-gradient', 'zero-gradient'])\n",
    "    plt.show()"
   ]
  },
  {
   "cell_type": "code",
   "execution_count": 11,
   "metadata": {},
   "outputs": [
    {
     "data": {
      "application/vnd.jupyter.widget-view+json": {
       "model_id": "7df6681ad6fa4fc488fc2bb4e8f70b4d",
       "version_major": 2,
       "version_minor": 0
      },
      "text/plain": [
       "  0%|          | 0/50 [00:00<?, ?it/s]"
      ]
     },
     "metadata": {},
     "output_type": "display_data"
    },
    {
     "name": "stdout",
     "output_type": "stream",
     "text": [
      "0: -94.422 1: -95.301 \n",
      "0:  67.108 1: -61.855 \n",
      "0:  102.847 1: -52.998 \n",
      "0: -79.216 1: -13.580 \n",
      "Episode 0 end\n",
      "492\n",
      "\n",
      "0: -36.167 1: -37.995 \n",
      "0: -142.100 1:  21.748 \n",
      "0: -182.928 1: -83.054 \n",
      "0: -96.911 1: -170.780 \n",
      "Episode 1 end\n",
      "984\n",
      "\n",
      "0:  20.072 1:  14.527 \n",
      "0: -66.695 1:  82.405 \n",
      "0:  4.900 1:  155.495 \n",
      "0: -69.917 1:  70.190 \n",
      "Episode 2 end\n",
      "1476\n",
      "\n",
      "0: -81.229 1:  14.964 \n",
      "0: -110.946 1: -53.103 \n",
      "0: -108.871 1: -122.430 \n",
      "0: -30.452 1: -88.438 \n",
      "Episode 3 end\n",
      "1968\n",
      "\n",
      "0: -69.821 1: -15.252 \n",
      "0: -101.385 1:  87.813 \n",
      "0: -184.500 1: -53.340 \n",
      "0: -185.960 1:  42.389 \n",
      "Episode 4 end\n",
      "2460\n",
      "\n",
      "0: -91.113 1: -100.847 \n",
      "0: -76.018 1: -65.979 \n",
      "0: -37.185 1: -11.606 \n",
      "0: -104.783 1: -31.540 \n",
      "Episode 5 end\n",
      "2952\n",
      "\n",
      "0: -49.021 1: -99.973 \n",
      "0: -129.388 1: -131.558 \n",
      "0: -141.373 1: -46.065 \n",
      "0: -10.880 1:  42.569 \n",
      "Episode 6 end\n",
      "3444\n",
      "\n",
      "0:  39.924 1:  45.186 \n",
      "0: -81.954 1:  30.021 \n",
      "0: -131.027 1: -14.756 \n",
      "0:  10.252 1: -14.191 \n",
      "Episode 7 end\n",
      "3936\n",
      "\n",
      "0: -4.057 1: -91.337 \n",
      "0: -2.282 1:  76.188 \n",
      "0: -88.720 1: -88.320 \n",
      "0: -107.510 1: -145.560 \n",
      "Episode 8 end\n",
      "4428\n",
      "\n",
      "0:  198.716 1: -43.460 \n",
      "0: -14.491 1: -107.864 \n",
      "0: -129.702 1: -172.143 \n",
      "0: -162.895 1: -181.978 \n",
      "Episode 9 end\n",
      "4920\n",
      "\n",
      "0: -14.327 1: -45.977 \n",
      "0: -100.928 1: -83.123 \n",
      "0: -71.180 1:  32.887 \n",
      "0: -131.157 1: -22.296 \n",
      "Episode 10 end\n",
      "5412\n",
      "\n",
      "0:  69.261 1:  8.860 \n",
      "0:  14.161 1: -55.364 \n",
      "0: -134.032 1: -133.811 \n",
      "0: -89.702 1: -108.334 \n",
      "Episode 11 end\n",
      "5904\n",
      "\n",
      "0:  35.411 1: -60.540 \n",
      "0:  14.089 1: -28.799 \n",
      "0: -124.596 1: -142.401 \n",
      "0: -180.039 1: -231.326 \n",
      "Episode 12 end\n",
      "6396\n",
      "\n",
      "0: -94.045 1: -81.642 \n",
      "0: -138.567 1: -1.690 \n",
      "0: -219.827 1: -36.006 \n",
      "0: -242.511 1: -31.421 \n",
      "Episode 13 end\n",
      "6888\n",
      "\n",
      "0: -54.951 1: -18.540 \n",
      "0: -129.951 1: -49.468 \n",
      "0: -107.157 1:  38.905 \n",
      "0: -174.013 1: -25.655 \n",
      "Episode 14 end\n",
      "7380\n",
      "\n",
      "0: -62.395 1:  71.311 \n",
      "0: -19.810 1: -76.991 \n",
      "0: -3.339 1: -56.104 \n",
      "0: -119.982 1: -118.433 \n",
      "Episode 15 end\n",
      "7872\n",
      "\n",
      "0:  9.255 1: -60.365 \n",
      "0:  27.149 1: -135.089 \n",
      "0: -86.560 1:  29.035 \n"
     ]
    }
   ],
   "source": [
    "episodes = 50\n",
    "\n",
    "for episode in tqdm(range(episodes)): #episodes loop\"\n",
    "\n",
    "    curr_obs,infos = env.reset() #reset environment after each episode\\n\",\n",
    "    # print(curr_obs[0][1])\n",
    "\n",
    "    losses = {}\n",
    "    while(env.agents): #until there are any surviving agents \n",
    "\n",
    "        actions = {}\n",
    "        log_probs = {}\n",
    "\n",
    "        for a in env.agents:\n",
    "            # print(curr_obs[a])\n",
    "            act, log_prob = models[a].select_action(state = curr_obs[a])\n",
    "            actions[a] = act\n",
    "            log_probs[a] = log_prob\n",
    "\n",
    "        # for i in range(env.n_agents): #objects contains all of the models, get the corresponding actions from each policy\\n\",\n",
    "            \n",
    "        #     if i in env.agents:\n",
    "        #         act, log_prob = env.agents_objects[i].brain1.select_action(state = torch.tensor(curr_obs[i], dtype = torch.float32))\n",
    "        #         actions[i] = act\n",
    "        #         log_probs[i] = log_prob\n",
    "        #     else:\n",
    "        #         actions[i] = env.num_actions\n",
    "        #         log_probs[i] = 69\n",
    "            \n",
    "        # print(actions)\n",
    "\n",
    "        next_obs, rewards, terminations, truncations, infos = env.step(actions)\n",
    "        # if env.timestep % 100 == 0:\n",
    "        #     # plot_grad_flow(models[0].policy_net.parameters())\n",
    "        #     print(rewards)\n",
    "        \n",
    "\n",
    "        for id, obs in next_obs.items():\n",
    "            # print(\"main shape\", obs[0].shape)\n",
    "            if obs is None:\n",
    "                print(env.timestep)\n",
    "                print(\"next state is None\")\n",
    "            models[id].push_to_buffer(curr_obs[id],actions[id],rewards[id],obs,log_probs[id],terminations[id])\n",
    "            loss = models[id].update_weights()\n",
    "\n",
    "            if(terminations[id] == True):\n",
    "                # loss = models[id].update_weights()\n",
    "                print(f\"Agent {id} died at timestep {env.timestep: 3d}. Current reward {rewards[id]: .3f}.\")\n",
    "                losses[id] = loss\n",
    "\n",
    "\n",
    "        if env.timestep % 100 == 0:\n",
    "            for id, agent in env.agents_objects.items():\n",
    "                # plot_grad_flow(models[0].policy_net.parameters())\n",
    "                print(f\"{id}: {agent.reward: .3f}\", end=' ')\n",
    "\n",
    "            print()\n",
    "        \n",
    "        # for i in range(env.n_agents):\n",
    "\n",
    "        #     if i in env.agents:\n",
    "        #         env.agents_objects[i].brain1.push_to_buffer(torch.tensor(curr_obs[i], dtype = torch.float32),actions[i],rewards[i],torch.tensor(next_obs[i], dtype = torch.float32),log_probs[i],terminations[i])\n",
    "        #         env.agents_objects[i].brain1.update_weights() \n",
    "            \n",
    "        #     if i in env.justdie:\n",
    "        #         env.justdie[i].brain1.push_to_buffer(torch.tensor(curr_obs[i], dtype = torch.float32),actions[i],rewards[i],torch.tensor(next_obs[i], dtype = torch.float32),log_probs[i],terminations[i])\n",
    "        #         loss = env.justdie[i].brain1.update_weights() \n",
    "        #         del env.justdie[i]\n",
    "        #         losses[i] = loss\n",
    "        \n",
    "        curr_obs = next_obs\n",
    "    \n",
    "    print(f\"Episode {episode} end\")\n",
    "    print(len(ddqn_1.replay_buffer))\n",
    "    # print(f\"Losses {losses}\")\n",
    "    print()\n",
    "    env.close()"
   ]
  },
  {
   "cell_type": "code",
   "execution_count": null,
   "metadata": {},
   "outputs": [],
   "source": [
    "plt.imshow(curr_obs[0][0][1].astype(np.int), cmap='gray')"
   ]
  },
  {
   "cell_type": "code",
   "execution_count": null,
   "metadata": {},
   "outputs": [],
   "source": [
    "plt.imshow(curr_obs[0][0][0].astype(np.int), cmap='gray')"
   ]
  },
  {
   "cell_type": "code",
   "execution_count": null,
   "metadata": {},
   "outputs": [],
   "source": [
    "models[0].policy_net((torch.tensor(curr_obs[0][0]), torch.tensor(curr_obs[0][1]), torch.tensor(curr_obs[0][2]), torch.tensor(curr_obs[0][3])))"
   ]
  },
  {
   "cell_type": "code",
   "execution_count": null,
   "metadata": {},
   "outputs": [],
   "source": [
    "models[0].select_action(curr_obs[0])"
   ]
  },
  {
   "cell_type": "code",
   "execution_count": null,
   "metadata": {},
   "outputs": [],
   "source": [
    "models[0].steps_done"
   ]
  }
 ],
 "metadata": {
  "kernelspec": {
   "display_name": "RL",
   "language": "python",
   "name": "python3"
  },
  "language_info": {
   "codemirror_mode": {
    "name": "ipython",
    "version": 3
   },
   "file_extension": ".py",
   "mimetype": "text/x-python",
   "name": "python",
   "nbconvert_exporter": "python",
   "pygments_lexer": "ipython3",
   "version": "3.10.9"
  }
 },
 "nbformat": 4,
 "nbformat_minor": 2
}
