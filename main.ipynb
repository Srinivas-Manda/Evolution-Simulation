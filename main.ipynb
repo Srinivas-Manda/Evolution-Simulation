{
 "cells": [
  {
   "cell_type": "code",
   "execution_count": 2,
   "metadata": {},
   "outputs": [
    {
     "name": "stdout",
     "output_type": "stream",
     "text": [
      "pygame 2.3.0 (SDL 2.24.2, Python 3.11.8)\n",
      "Hello from the pygame community. https://www.pygame.org/contribute.html\n"
     ]
    }
   ],
   "source": [
    "from Environment.custom_env import CustomEnvironment\n",
    "from pettingzoo.test import parallel_api_test\n",
    "from pettingzoo.mpe import simple_adversary_v3\n",
    "from Models.ActorCritic import ActorCritic\n",
    "import json\n",
    "# from testing import CustomActionMaskedEnvironment\n",
    "# from customRPSEnv import parallel_env"
   ]
  },
  {
   "cell_type": "code",
   "execution_count": 4,
   "metadata": {},
   "outputs": [
    {
     "data": {
      "text/plain": [
       "3"
      ]
     },
     "execution_count": 4,
     "metadata": {},
     "output_type": "execute_result"
    }
   ],
   "source": [
    "f = open('Environment/env_config.json')\n",
    "env_variables = json.load(f)\n",
    "f.close\n",
    "env_variables['num_agents']"
   ]
  },
  {
   "cell_type": "code",
   "execution_count": 5,
   "metadata": {},
   "outputs": [],
   "source": [
    "env = CustomEnvironment(env_config=env_variables)\n",
    "# env = parallel_env(render_mode=\"human\")\n",
    "# env.reset(seed=42)"
   ]
  },
  {
   "cell_type": "code",
   "execution_count": 6,
   "metadata": {},
   "outputs": [
    {
     "name": "stderr",
     "output_type": "stream",
     "text": [
      "k:\\ANACONDA\\envs\\RL\\Lib\\site-packages\\pettingzoo\\test\\parallel_test.py:90: UserWarning: Agent was given info but was dead last turn\n",
      "  warnings.warn(f\"Agent was given {k} but was dead last turn\")\n",
      "k:\\ANACONDA\\envs\\RL\\Lib\\site-packages\\pettingzoo\\test\\parallel_test.py:88: UserWarning: Live agent was not given observation\n",
      "  warnings.warn(f\"Live agent was not given {k}\")\n",
      "k:\\ANACONDA\\envs\\RL\\Lib\\site-packages\\pettingzoo\\test\\parallel_test.py:88: UserWarning: Live agent was not given info\n",
      "  warnings.warn(f\"Live agent was not given {k}\")\n",
      "k:\\ANACONDA\\envs\\RL\\Lib\\site-packages\\pettingzoo\\test\\parallel_test.py:90: UserWarning: Agent was given terminated but was dead last turn\n",
      "  warnings.warn(f\"Agent was given {k} but was dead last turn\")\n"
     ]
    },
    {
     "name": "stdout",
     "output_type": "stream",
     "text": [
      "agent2 consumed pellet6\n",
      "agent0 died at time 99\n",
      "agent1 died at time 100\n",
      "agent2 died at time 121\n",
      "agent0 died at time 99\n",
      "agent2 died at time 99\n",
      "agent1 died at time 100\n",
      "Passed Parallel API test\n"
     ]
    }
   ],
   "source": [
    "parallel_api_test(env, num_cycles=1000)"
   ]
  },
  {
   "cell_type": "code",
   "execution_count": 13,
   "metadata": {},
   "outputs": [
    {
     "name": "stdout",
     "output_type": "stream",
     "text": [
      "agent0 died at time 99\n",
      "agent2 died at time 99\n",
      "agent1 died at time 100\n"
     ]
    }
   ],
   "source": [
    "observations, infos = env.reset()\n",
    "while env.agents:\n",
    "    # print(env.timestep)\n",
    "    # this is where you would insert your policy\n",
    "    actions = {agent: env.action_space(agent).sample() for agent in env.agents}\n",
    "    \n",
    "    observations, rewards, terminations, truncations, infos = env.step(actions)\n",
    "\n",
    "# env.close()"
   ]
  }
 ],
 "metadata": {
  "kernelspec": {
   "display_name": "RL",
   "language": "python",
   "name": "python3"
  },
  "language_info": {
   "codemirror_mode": {
    "name": "ipython",
    "version": 3
   },
   "file_extension": ".py",
   "mimetype": "text/x-python",
   "name": "python",
   "nbconvert_exporter": "python",
   "pygments_lexer": "ipython3",
   "version": "3.11.8"
  }
 },
 "nbformat": 4,
 "nbformat_minor": 2
}
