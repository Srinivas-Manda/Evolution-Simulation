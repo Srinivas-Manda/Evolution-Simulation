{
 "cells": [
  {
   "cell_type": "code",
   "execution_count": 1,
   "metadata": {},
   "outputs": [
    {
     "name": "stdout",
     "output_type": "stream",
     "text": [
      "pygame 2.5.2 (SDL 2.28.3, Python 3.10.9)\n",
      "Hello from the pygame community. https://www.pygame.org/contribute.html\n"
     ]
    }
   ],
   "source": [
    "from Environment.custom_env import CustomEnvironment\n",
    "from pettingzoo.test import parallel_api_test\n",
    "from pettingzoo.mpe import simple_adversary_v3\n",
    "from Models.ActorCritic import ActorCritic\n",
    "from Models.SoftActorCritic import SoftActorCritic\n",
    "import json\n",
    "import torch\n",
    "import numpy as np\n",
    "from tqdm import tqdm"
   ]
  },
  {
   "cell_type": "code",
   "execution_count": 2,
   "metadata": {},
   "outputs": [
    {
     "data": {
      "text/plain": [
       "<function TextIOWrapper.close()>"
      ]
     },
     "execution_count": 2,
     "metadata": {},
     "output_type": "execute_result"
    }
   ],
   "source": [
    "f = open('Environment/env_config.json')\n",
    "env_variables = json.load(f)\n",
    "f.close"
   ]
  },
  {
   "cell_type": "code",
   "execution_count": 3,
   "metadata": {},
   "outputs": [],
   "source": [
    "# f = open('Models/model_config.json')\n",
    "# model_variables = json.load(f)\n",
    "# f.close"
   ]
  },
  {
   "cell_type": "code",
   "execution_count": 4,
   "metadata": {},
   "outputs": [],
   "source": [
    "# ac_0 = ActorCritic(model_variables)\n",
    "# ac_1 = ActorCritic(model_variables)\n",
    "# ac_2 = ActorCritic(model_variables)\n",
    "# ac_3 = ActorCritic(model_variables)\n",
    "# ac_4 = ActorCritic(model_variables)\n",
    "\n",
    "# #agent_id to object mapping\n",
    "# objects = {\n",
    "    \n",
    "#     0 : ac_0,\n",
    "#     1 : ac_1,\n",
    "#     2 : ac_2,\n",
    "#     3 : ac_3,\n",
    "#     4 : ac_4\n",
    "# }  "
   ]
  },
  {
   "cell_type": "code",
   "execution_count": 5,
   "metadata": {},
   "outputs": [],
   "source": [
    "env = CustomEnvironment(env_config=env_variables)\n",
    "# env = parallel_env(render_mode=\"human\")\n",
    "# env.reset(seed=42)"
   ]
  },
  {
   "cell_type": "code",
   "execution_count": 6,
   "metadata": {},
   "outputs": [],
   "source": [
    "# parallel_api_test(env, num_cycles=1000)"
   ]
  },
  {
   "cell_type": "code",
   "execution_count": 7,
   "metadata": {},
   "outputs": [],
   "source": [
    "# observations, infos = env.reset()\n",
    "# while env.agents:\n",
    "#     # print(env.timestep)\n",
    "#     # this is where you would insert your policy\n",
    "#     actions = {agent: env.action_space(agent).sample() for agent in env.agents}\n",
    "    \n",
    "#     observations, rewards, terminations, truncations, infos = env.step(actions)\n",
    "\n",
    "# env.close()"
   ]
  },
  {
   "cell_type": "code",
   "execution_count": 8,
   "metadata": {},
   "outputs": [
    {
     "ename": "AttributeError",
     "evalue": "'CustomEnvironment' object has no attribute 'agents'",
     "output_type": "error",
     "traceback": [
      "\u001b[1;31m---------------------------------------------------------------------------\u001b[0m",
      "\u001b[1;31mAttributeError\u001b[0m                            Traceback (most recent call last)",
      "Cell \u001b[1;32mIn[8], line 1\u001b[0m\n\u001b[1;32m----> 1\u001b[0m \u001b[43menv\u001b[49m\u001b[38;5;241;43m.\u001b[39;49m\u001b[43magents\u001b[49m\n",
      "\u001b[1;31mAttributeError\u001b[0m: 'CustomEnvironment' object has no attribute 'agents'"
     ]
    }
   ],
   "source": [
    "env.agents"
   ]
  },
  {
   "cell_type": "code",
   "execution_count": null,
   "metadata": {},
   "outputs": [],
   "source": [
    "terminations"
   ]
  },
  {
   "cell_type": "code",
   "execution_count": null,
   "metadata": {},
   "outputs": [],
   "source": [
    "if(terminations):\n",
    "    print(\"america ya\")"
   ]
  },
  {
   "cell_type": "code",
   "execution_count": null,
   "metadata": {},
   "outputs": [],
   "source": [
    "truncations"
   ]
  },
  {
   "cell_type": "code",
   "execution_count": null,
   "metadata": {},
   "outputs": [],
   "source": [
    "episodes = 100\n",
    "\n",
    "for i in tqdm(range(episodes)): #episodes loop\"\n",
    "\n",
    "    curr_obs,infos = env.reset() #reset environment after each episode\\n\",\n",
    "\n",
    "    while(env.agents): #until there are any surviving agents \n",
    "\n",
    "        actions = {}\n",
    "        logs = {}\n",
    "\n",
    "        for i in range(env.n_agents): #objects contains all of the models, get the corresponding actions from each policy\\n\",\n",
    "            \n",
    "            if i in env.agents:\n",
    "                act, log_prob = env.agents_objects[i].brain1.select_action(state = curr_obs[i])\n",
    "            else:\n",
    "                actions[i] = env.num_actions\n",
    "            \n",
    "        next_obs, rewards, terminations, truncations, infos = env.step(actions)\n",
    "        \n",
    "        for i in range(env.n_agents):\n",
    "\n",
    "            if i in env.agents:\n",
    "                env.agents_objects[i].brain1.push_to_buffer(curr_obs[i],actions[i],rewards[i],next_obs[i],logs[i],terminations[i])\n",
    "                env.agents_objects[i].brain1.update_weights() \n",
    "            \n",
    "            if i in env.justdie:\n",
    "                env.justdie[i].brain1.push_to_buffer(curr_obs[i],actions[i],rewards[i],next_obs[i],logs[i],terminations[i])\n",
    "                env.justdie[i].brain1.update_weights() \n",
    "                del env.justdie[i]\n",
    "                \n",
    "        \n",
    "        curr_obs = next_obs\n"
   ]
  }
 ],
 "metadata": {
  "kernelspec": {
   "display_name": "RL",
   "language": "python",
   "name": "python3"
  },
  "language_info": {
   "codemirror_mode": {
    "name": "ipython",
    "version": 3
   },
   "file_extension": ".py",
   "mimetype": "text/x-python",
   "name": "python",
   "nbconvert_exporter": "python",
   "pygments_lexer": "ipython3",
   "version": "3.10.9"
  }
 },
 "nbformat": 4,
 "nbformat_minor": 2
}
