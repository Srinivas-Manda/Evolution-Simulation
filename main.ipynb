{
 "cells": [
  {
   "cell_type": "code",
   "execution_count": 1,
   "metadata": {},
   "outputs": [
    {
     "name": "stdout",
     "output_type": "stream",
     "text": [
      "pygame 2.3.0 (SDL 2.24.2, Python 3.11.8)\n",
      "Hello from the pygame community. https://www.pygame.org/contribute.html\n"
     ]
    },
    {
     "name": "stderr",
     "output_type": "stream",
     "text": [
      "C:\\Users\\kaush\\AppData\\Local\\Temp\\ipykernel_10780\\2412810607.py:5: TqdmDeprecationWarning: This function will be removed in tqdm==5.0.0\n",
      "Please use `tqdm.notebook.*` instead of `tqdm._tqdm_notebook.*`\n",
      "  from tqdm._tqdm_notebook import tqdm_notebook\n"
     ]
    }
   ],
   "source": [
    "from Environment.custom_env import CustomEnvironment\n",
    "import json\n",
    "import torch\n",
    "import numpy as np\n",
    "from tqdm._tqdm_notebook import tqdm_notebook\n",
    "\n",
    "from Models.ActorCritic import ActorCritic\n",
    "from Models.SoftActorCritic import SoftActorCritic\n",
    "from Models.DDQN import DoubleDQN"
   ]
  },
  {
   "cell_type": "code",
   "execution_count": 2,
   "metadata": {},
   "outputs": [
    {
     "data": {
      "text/plain": [
       "True"
      ]
     },
     "execution_count": 2,
     "metadata": {},
     "output_type": "execute_result"
    }
   ],
   "source": [
    "torch.cuda.is_available()"
   ]
  },
  {
   "cell_type": "code",
   "execution_count": 3,
   "metadata": {},
   "outputs": [
    {
     "data": {
      "text/plain": [
       "<function TextIOWrapper.close()>"
      ]
     },
     "execution_count": 3,
     "metadata": {},
     "output_type": "execute_result"
    }
   ],
   "source": [
    "f = open('Environment/env_config.json')\n",
    "env_variables = json.load(f)\n",
    "f.close"
   ]
  },
  {
   "cell_type": "code",
   "execution_count": 4,
   "metadata": {},
   "outputs": [],
   "source": [
    "env = CustomEnvironment(env_config=env_variables, render_mode=\"human\")\n",
    "# env = parallel_env(render_mode=\"human\")\n",
    "# env.reset(seed=42)"
   ]
  },
  {
   "cell_type": "code",
   "execution_count": 5,
   "metadata": {},
   "outputs": [],
   "source": [
    "import matplotlib.pyplot as plt \n",
    "from sklearn.preprocessing import MinMaxScaler\n",
    "mms = MinMaxScaler(feature_range=(0, 128))"
   ]
  },
  {
   "cell_type": "code",
   "execution_count": 6,
   "metadata": {},
   "outputs": [
    {
     "data": {
      "text/plain": [
       "<function TextIOWrapper.close()>"
      ]
     },
     "execution_count": 6,
     "metadata": {},
     "output_type": "execute_result"
    }
   ],
   "source": [
    "ac_config = open('Environment/ac_config.json')\n",
    "ac_variables = json.load(ac_config)\n",
    "ac_config.close\n",
    "\n",
    "sac_config = open('Environment/sac_config.json')\n",
    "sac_variables = json.load(sac_config)\n",
    "sac_config.close\n",
    "\n",
    "ddqn_config = open('Environment/ddqn_config.json')\n",
    "ddqn_variables = json.load(ddqn_config)\n",
    "ddqn_config.close"
   ]
  },
  {
   "cell_type": "code",
   "execution_count": 7,
   "metadata": {},
   "outputs": [],
   "source": [
    "ddqn = DoubleDQN(ddqn_variables)\n",
    "# ac = ActorCritic(ac_variables)\n",
    "# sac = SoftActorCritic(sac_variables)"
   ]
  },
  {
   "cell_type": "code",
   "execution_count": 8,
   "metadata": {},
   "outputs": [],
   "source": [
    "models = {0:ddqn, 1:ddqn, 2:ddqn}"
   ]
  },
  {
   "cell_type": "code",
   "execution_count": 9,
   "metadata": {},
   "outputs": [
    {
     "data": {
      "application/vnd.jupyter.widget-view+json": {
       "model_id": "d1a9a85426ef445683e109255e47d07c",
       "version_major": 2,
       "version_minor": 0
      },
      "text/plain": [
       "  0%|          | 0/100 [00:00<?, ?it/s]"
      ]
     },
     "metadata": {},
     "output_type": "display_data"
    },
    {
     "name": "stdout",
     "output_type": "stream",
     "text": [
      "agent2 died at time 120\n",
      "agent0 died at time 183\n",
      "agent1 died at time 246\n",
      "Episode 0 end\n",
      "Losses {2: tensor(0.1847), 0: tensor(0.2831), 1: tensor(0.4703)}\n",
      "\n",
      "agent2 died at time 120\n",
      "agent0 died at time 162\n",
      "agent1 died at time 162\n",
      "Episode 1 end\n",
      "Losses {2: tensor(0.6076), 0: tensor(0.7643), 1: tensor(0.6067)}\n",
      "\n",
      "agent0 died at time 141\n",
      "agent1 died at time 141\n",
      "agent2 died at time 183\n",
      "Episode 2 end\n",
      "Losses {0: tensor(1.1005), 1: tensor(0.8899), 2: tensor(0.9979)}\n",
      "\n",
      "agent2 died at time 120\n",
      "agent0 died at time 162\n",
      "agent1 died at time 162\n",
      "Episode 3 end\n",
      "Losses {2: tensor(0.7284), 0: tensor(0.6387), 1: tensor(0.9345)}\n",
      "\n",
      "agent2 died at time 120\n",
      "agent0 died at time 141\n",
      "agent1 died at time 162\n",
      "Episode 4 end\n",
      "Losses {2: tensor(0.8156), 0: tensor(0.6768), 1: tensor(0.5502)}\n",
      "\n",
      "agent0 died at time 120\n",
      "agent1 died at time 141\n",
      "agent2 died at time 141\n",
      "Episode 5 end\n",
      "Losses {0: tensor(0.9959), 1: tensor(1.2988), 2: tensor(0.8948)}\n",
      "\n",
      "agent0 died at time 120\n",
      "agent2 died at time 141\n",
      "agent1 died at time 183\n",
      "Episode 6 end\n",
      "Losses {0: tensor(1.9534), 2: tensor(1.7351), 1: tensor(1.4466)}\n",
      "\n",
      "agent2 died at time 99\n",
      "agent0 died at time 120\n",
      "agent1 died at time 120\n",
      "Episode 7 end\n",
      "Losses {2: tensor(1.6912), 0: tensor(1.7871), 1: tensor(2.2995)}\n",
      "\n",
      "agent1 died at time 141\n",
      "agent2 died at time 141\n",
      "agent0 died at time 225\n",
      "Episode 8 end\n",
      "Losses {1: tensor(4.6996), 2: tensor(9.0218), 0: tensor(5.6488)}\n",
      "\n",
      "agent2 died at time 120\n",
      "agent0 died at time 162\n",
      "agent1 died at time 162\n",
      "Episode 9 end\n",
      "Losses {2: tensor(90.2948), 0: tensor(74.6348), 1: tensor(80.8266)}\n",
      "\n",
      "agent0 died at time 99\n",
      "agent2 died at time 120\n",
      "agent1 died at time 204\n",
      "Episode 10 end\n",
      "Losses {0: tensor(89.2123), 2: tensor(120.9254), 1: tensor(49.6322)}\n",
      "\n",
      "agent0 died at time 120\n",
      "agent1 died at time 120\n",
      "agent2 died at time 120\n",
      "Episode 11 end\n",
      "Losses {0: tensor(19.6519), 1: tensor(41.3056), 2: tensor(19.9741)}\n",
      "\n",
      "agent0 died at time 120\n",
      "agent2 died at time 162\n",
      "agent1 died at time 204\n",
      "Episode 12 end\n",
      "Losses {0: tensor(51.4850), 2: tensor(41.5989), 1: tensor(46.5968)}\n",
      "\n",
      "agent0 died at time 120\n",
      "agent1 died at time 183\n",
      "agent2 died at time 183\n",
      "Episode 13 end\n",
      "Losses {0: tensor(90.0376), 1: tensor(86.6993), 2: tensor(38.4665)}\n",
      "\n",
      "agent0 died at time 99\n",
      "agent1 died at time 120\n",
      "agent2 died at time 183\n",
      "Episode 14 end\n",
      "Losses {0: tensor(79.8357), 1: tensor(49.9478), 2: tensor(34.1246)}\n",
      "\n",
      "agent0 died at time 141\n",
      "agent2 died at time 162\n",
      "agent1 died at time 204\n",
      "Episode 15 end\n",
      "Losses {0: tensor(78.6074), 2: tensor(92.8036), 1: tensor(68.6173)}\n",
      "\n",
      "agent0 died at time 120\n",
      "agent1 died at time 162\n",
      "agent2 died at time 225\n",
      "Episode 16 end\n",
      "Losses {0: tensor(229.6314), 1: tensor(172.0720), 2: tensor(218.8794)}\n",
      "\n",
      "agent0 died at time 120\n",
      "agent1 died at time 120\n",
      "agent2 died at time 120\n",
      "Episode 17 end\n",
      "Losses {0: tensor(187.9267), 1: tensor(146.1107), 2: tensor(284.5600)}\n",
      "\n",
      "agent0 died at time 120\n",
      "agent1 died at time 120\n",
      "agent2 died at time 225\n",
      "Episode 18 end\n",
      "Losses {0: tensor(221.8237), 1: tensor(433.7770), 2: tensor(179.2562)}\n",
      "\n",
      "agent2 died at time 99\n",
      "agent1 died at time 120\n",
      "agent0 died at time 141\n",
      "Episode 19 end\n",
      "Losses {2: tensor(201.0562), 1: tensor(120.1938), 0: tensor(293.5217)}\n",
      "\n",
      "agent1 died at time 120\n",
      "agent2 died at time 162\n",
      "agent0 died at time 183\n",
      "Episode 20 end\n",
      "Losses {1: tensor(107.4222), 2: tensor(318.4802), 0: tensor(318.8981)}\n",
      "\n",
      "agent1 died at time 120\n",
      "agent0 died at time 141\n",
      "agent2 died at time 141\n",
      "Episode 21 end\n",
      "Losses {1: tensor(1042.0085), 0: tensor(962.3098), 2: tensor(749.4500)}\n",
      "\n",
      "agent1 died at time 120\n",
      "agent0 died at time 204\n",
      "agent2 died at time 204\n",
      "Episode 22 end\n",
      "Losses {1: tensor(681.7352), 0: tensor(147.9325), 2: tensor(250.0772)}\n",
      "\n",
      "agent0 died at time 120\n",
      "agent1 died at time 141\n",
      "agent2 died at time 162\n",
      "Episode 23 end\n",
      "Losses {0: tensor(1273.3947), 1: tensor(1763.2698), 2: tensor(1623.9563)}\n",
      "\n",
      "agent1 died at time 120\n",
      "agent2 died at time 141\n",
      "agent0 died at time 267\n",
      "Episode 24 end\n",
      "Losses {1: tensor(759.5660), 2: tensor(498.4293), 0: tensor(1879.8623)}\n",
      "\n",
      "agent1 died at time 120\n",
      "agent0 died at time 141\n",
      "agent2 died at time 204\n",
      "Episode 25 end\n",
      "Losses {1: tensor(882.2114), 0: tensor(202.2086), 2: tensor(558.3395)}\n",
      "\n",
      "agent0 died at time 120\n",
      "agent2 died at time 225\n",
      "agent1 died at time 246\n",
      "Episode 26 end\n",
      "Losses {0: tensor(1542.6304), 2: tensor(3662.3931), 1: tensor(2794.4097)}\n",
      "\n",
      "agent2 died at time 120\n",
      "agent0 died at time 141\n",
      "agent1 died at time 162\n",
      "Episode 27 end\n",
      "Losses {2: tensor(4416.6626), 0: tensor(1709.8763), 1: tensor(1516.1162)}\n",
      "\n",
      "agent0 died at time 141\n",
      "agent1 died at time 141\n",
      "agent2 died at time 162\n",
      "Episode 28 end\n",
      "Losses {0: tensor(1169.7827), 1: tensor(2353.8354), 2: tensor(1952.8511)}\n",
      "\n",
      "agent1 died at time 162\n",
      "agent0 died at time 204\n",
      "agent2 died at time 246\n",
      "Episode 29 end\n",
      "Losses {1: tensor(1730.7316), 0: tensor(1334.4690), 2: tensor(1866.0515)}\n",
      "\n",
      "agent0 died at time 141\n",
      "agent2 died at time 141\n",
      "agent1 died at time 183\n",
      "Episode 30 end\n",
      "Losses {0: tensor(336.3886), 2: tensor(130.7730), 1: tensor(347.7847)}\n",
      "\n",
      "agent0 died at time 99\n",
      "agent1 died at time 120\n",
      "agent2 died at time 141\n",
      "Episode 31 end\n",
      "Losses {0: tensor(391.7398), 1: tensor(758.7064), 2: tensor(1384.5334)}\n",
      "\n",
      "agent0 died at time 120\n",
      "agent1 died at time 141\n",
      "agent2 died at time 162\n",
      "Episode 32 end\n",
      "Losses {0: tensor(696.0950), 1: tensor(254.2446), 2: tensor(971.7902)}\n",
      "\n"
     ]
    }
   ],
   "source": [
    "episodes = 100\n",
    "\n",
    "for episode in tqdm_notebook(range(episodes)): #episodes loop\"\n",
    "\n",
    "    curr_obs,infos = env.reset() #reset environment after each episode\\n\",\n",
    "\n",
    "    losses = {}\n",
    "    while(env.agents): #until there are any surviving agents \n",
    "\n",
    "        actions = {}\n",
    "        log_probs = {}\n",
    "\n",
    "        for a in env.agents:\n",
    "            act, log_prob = models[a].select_action(state = torch.tensor(curr_obs[a], dtype = torch.float32))\n",
    "            actions[a] = act\n",
    "            log_probs[a] = log_prob\n",
    "\n",
    "        # for i in range(env.n_agents): #objects contains all of the models, get the corresponding actions from each policy\\n\",\n",
    "            \n",
    "        #     if i in env.agents:\n",
    "        #         act, log_prob = env.agents_objects[i].brain1.select_action(state = torch.tensor(curr_obs[i], dtype = torch.float32))\n",
    "        #         actions[i] = act\n",
    "        #         log_probs[i] = log_prob\n",
    "        #     else:\n",
    "        #         actions[i] = env.num_actions\n",
    "        #         log_probs[i] = 69\n",
    "            \n",
    "        # print(actions)\n",
    "\n",
    "        next_obs, rewards, terminations, truncations, infos = env.step(actions)\n",
    "        \n",
    "        # print(next_obs)\n",
    "        # print(env.agents_objects)\n",
    "        # print(curr_obs)\n",
    "        # print(rewards)\n",
    "        # print(terminations)\n",
    "        # print(truncations)\n",
    "        # print(infos)\n",
    "\n",
    "        for id, obs in next_obs.items():\n",
    "            models[id].push_to_buffer(torch.tensor(curr_obs[id], dtype = torch.float32),actions[id],rewards[id],torch.tensor(obs, dtype = torch.float32),log_probs[id],terminations[id])\n",
    "            loss = models[id].update_weights()\n",
    "\n",
    "            if(terminations[id] == True):\n",
    "                # loss = models[id].update_weights()\n",
    "                losses[id] = loss\n",
    "        \n",
    "        # for i in range(env.n_agents):\n",
    "\n",
    "        #     if i in env.agents:\n",
    "        #         env.agents_objects[i].brain1.push_to_buffer(torch.tensor(curr_obs[i], dtype = torch.float32),actions[i],rewards[i],torch.tensor(next_obs[i], dtype = torch.float32),log_probs[i],terminations[i])\n",
    "        #         env.agents_objects[i].brain1.update_weights() \n",
    "            \n",
    "        #     if i in env.justdie:\n",
    "        #         env.justdie[i].brain1.push_to_buffer(torch.tensor(curr_obs[i], dtype = torch.float32),actions[i],rewards[i],torch.tensor(next_obs[i], dtype = torch.float32),log_probs[i],terminations[i])\n",
    "        #         loss = env.justdie[i].brain1.update_weights() \n",
    "        #         del env.justdie[i]\n",
    "        #         losses[i] = loss\n",
    "        \n",
    "        curr_obs = next_obs\n",
    "\n",
    "    print(f\"Episode {episode} end\")\n",
    "    print(f\"Losses {losses}\")\n",
    "    print()\n",
    "    env.close()"
   ]
  },
  {
   "cell_type": "code",
   "execution_count": null,
   "metadata": {},
   "outputs": [
    {
     "data": {
      "text/plain": [
       "39937"
      ]
     },
     "execution_count": 19,
     "metadata": {},
     "output_type": "execute_result"
    }
   ],
   "source": [
    "models[0].steps_done"
   ]
  }
 ],
 "metadata": {
  "kernelspec": {
   "display_name": "RL",
   "language": "python",
   "name": "python3"
  },
  "language_info": {
   "codemirror_mode": {
    "name": "ipython",
    "version": 3
   },
   "file_extension": ".py",
   "mimetype": "text/x-python",
   "name": "python",
   "nbconvert_exporter": "python",
   "pygments_lexer": "ipython3",
   "version": "3.11.8"
  }
 },
 "nbformat": 4,
 "nbformat_minor": 2
}
