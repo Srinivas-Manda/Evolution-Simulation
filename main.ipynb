{
 "cells": [
  {
   "cell_type": "code",
   "execution_count": 2,
   "metadata": {},
   "outputs": [
    {
     "name": "stdout",
     "output_type": "stream",
     "text": [
      "pygame 2.5.2 (SDL 2.28.3, Python 3.10.9)\n",
      "Hello from the pygame community. https://www.pygame.org/contribute.html\n"
     ]
    }
   ],
   "source": [
    "from Environment.custom_env import CustomEnvironment\n",
    "from pettingzoo.test import parallel_api_test\n",
    "from pettingzoo.mpe import simple_adversary_v3\n",
    "from Models.ActorCritic import ActorCritic\n",
    "import json\n",
    "import torch\n",
    "import numpy as np\n",
    "from tqdm import tqdm"
   ]
  },
  {
   "cell_type": "code",
   "execution_count": 2,
   "metadata": {},
   "outputs": [
    {
     "data": {
      "text/plain": [
       "<function TextIOWrapper.close()>"
      ]
     },
     "execution_count": 2,
     "metadata": {},
     "output_type": "execute_result"
    }
   ],
   "source": [
    "f = open('Environment/env_config.json')\n",
    "env_variables = json.load(f)\n",
    "f.close"
   ]
  },
  {
   "cell_type": "code",
   "execution_count": 3,
   "metadata": {},
   "outputs": [
    {
     "data": {
      "text/plain": [
       "<function TextIOWrapper.close()>"
      ]
     },
     "execution_count": 3,
     "metadata": {},
     "output_type": "execute_result"
    }
   ],
   "source": [
    "f = open('Models/model_config.json')\n",
    "model_variables = json.load(f)\n",
    "f.close"
   ]
  },
  {
   "cell_type": "code",
   "execution_count": 4,
   "metadata": {},
   "outputs": [],
   "source": [
    "ac = ActorCritic(model_variables)"
   ]
  },
  {
   "cell_type": "code",
   "execution_count": 5,
   "metadata": {},
   "outputs": [],
   "source": [
    "env = CustomEnvironment(env_config=env_variables)\n",
    "# env = parallel_env(render_mode=\"human\")\n",
    "# env.reset(seed=42)"
   ]
  },
  {
   "cell_type": "code",
   "execution_count": 6,
   "metadata": {},
   "outputs": [
    {
     "name": "stderr",
     "output_type": "stream",
     "text": [
      "c:\\Users\\srini\\anaconda3\\lib\\site-packages\\pettingzoo\\test\\parallel_test.py:90: UserWarning: Agent was given info but was dead last turn\n",
      "  warnings.warn(f\"Agent was given {k} but was dead last turn\")\n"
     ]
    },
    {
     "name": "stdout",
     "output_type": "stream",
     "text": [
      "agent0 died at time 99\n",
      "agent2 died at time 99\n",
      "agent1 died at time 100\n"
     ]
    },
    {
     "name": "stderr",
     "output_type": "stream",
     "text": [
      "c:\\Users\\srini\\anaconda3\\lib\\site-packages\\pettingzoo\\test\\parallel_test.py:88: UserWarning: Live agent was not given observation\n",
      "  warnings.warn(f\"Live agent was not given {k}\")\n",
      "c:\\Users\\srini\\anaconda3\\lib\\site-packages\\pettingzoo\\test\\parallel_test.py:88: UserWarning: Live agent was not given info\n",
      "  warnings.warn(f\"Live agent was not given {k}\")\n",
      "c:\\Users\\srini\\anaconda3\\lib\\site-packages\\pettingzoo\\test\\parallel_test.py:90: UserWarning: Agent was given terminated but was dead last turn\n",
      "  warnings.warn(f\"Agent was given {k} but was dead last turn\")\n"
     ]
    },
    {
     "name": "stdout",
     "output_type": "stream",
     "text": [
      "agent2 consumed pellet57\n",
      "agent2 consumed pellet10\n",
      "agent0 died at time 99\n",
      "agent1 died at time 100\n",
      "agent2 died at time 142\n",
      "Passed Parallel API test\n"
     ]
    }
   ],
   "source": [
    "parallel_api_test(env, num_cycles=1000)"
   ]
  },
  {
   "cell_type": "code",
   "execution_count": 7,
   "metadata": {},
   "outputs": [
    {
     "name": "stdout",
     "output_type": "stream",
     "text": [
      "agent0 died at time 99\n",
      "agent2 died at time 99\n",
      "agent1 died at time 100\n"
     ]
    }
   ],
   "source": [
    "observations, infos = env.reset()\n",
    "while env.agents:\n",
    "    # print(env.timestep)\n",
    "    # this is where you would insert your policy\n",
    "    actions = {agent: env.action_space(agent).sample() for agent in env.agents}\n",
    "    \n",
    "    observations, rewards, terminations, truncations, infos = env.step(actions)\n",
    "\n",
    "# env.close()"
   ]
  },
  {
   "cell_type": "code",
   "execution_count": 8,
   "metadata": {},
   "outputs": [
    {
     "name": "stderr",
     "output_type": "stream",
     "text": [
      "  0%|          | 0/100 [00:00<?, ?it/s]\n"
     ]
    },
    {
     "ename": "NameError",
     "evalue": "name 'objects' is not defined",
     "output_type": "error",
     "traceback": [
      "\u001b[1;31m---------------------------------------------------------------------------\u001b[0m",
      "\u001b[1;31mNameError\u001b[0m                                 Traceback (most recent call last)",
      "Cell \u001b[1;32mIn[8], line 9\u001b[0m\n\u001b[0;32m      7\u001b[0m \u001b[38;5;28;01mfor\u001b[39;00m j \u001b[38;5;129;01min\u001b[39;00m \u001b[38;5;28mrange\u001b[39m(\u001b[38;5;241m100\u001b[39m):\n\u001b[0;32m      8\u001b[0m     actions \u001b[38;5;241m=\u001b[39m {}\n\u001b[1;32m----> 9\u001b[0m     \u001b[38;5;28;01mfor\u001b[39;00m key,value \u001b[38;5;129;01min\u001b[39;00m \u001b[43mobjects\u001b[49m\u001b[38;5;241m.\u001b[39mitems(): \u001b[38;5;66;03m#objects contains all of the models, get the corresponding actions from each policy\\n\",\u001b[39;00m\n\u001b[0;32m     10\u001b[0m         act,log_prob \u001b[38;5;241m=\u001b[39m value\u001b[38;5;241m.\u001b[39mselect_action(state \u001b[38;5;241m=\u001b[39m curr_obs[key]) \u001b[38;5;66;03m#action of for each agent is set based on the current state\\n\",\u001b[39;00m\n\u001b[0;32m     11\u001b[0m         actions[key] \u001b[38;5;241m=\u001b[39m act\n",
      "\u001b[1;31mNameError\u001b[0m: name 'objects' is not defined"
     ]
    }
   ],
   "source": [
    "state = torch.ones((3, 10, 10))\n",
    "\n",
    "episodes = 100\n",
    "\n",
    "for i in tqdm(range(episodes)): #episodes loop\"\n",
    "    curr_obs,infos = env.reset() #reset environment after each episode\\n\",\n",
    "    for j in range(100):\n",
    "        actions = {}\n",
    "        for key,value in objects.items(): #objects contains all of the models, get the corresponding actions from each policy\\n\",\n",
    "            act,log_prob = value.select_action(state = curr_obs[key]) #action of for each agent is set based on the current state\\n\",\n",
    "            actions[key] = act\n",
    "\n",
    "        observations,rewards,terminations,truncations,infos = env.step(actions)\n",
    "\n",
    "        ac_agent.push_to_buffer(curr_obs[0],actions[0],rewards[0],observations[0])"
   ]
  }
 ],
 "metadata": {
  "kernelspec": {
   "display_name": "RL",
   "language": "python",
   "name": "python3"
  },
  "language_info": {
   "codemirror_mode": {
    "name": "ipython",
    "version": 3
   },
   "file_extension": ".py",
   "mimetype": "text/x-python",
   "name": "python",
   "nbconvert_exporter": "python",
   "pygments_lexer": "ipython3",
   "version": "3.10.9"
  }
 },
 "nbformat": 4,
 "nbformat_minor": 2
}
