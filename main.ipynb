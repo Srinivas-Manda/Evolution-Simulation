{
 "cells": [
  {
   "cell_type": "code",
   "execution_count": null,
   "metadata": {},
   "outputs": [],
   "source": [
    "from Environment.custom_env import CustomEnvironment\n",
    "import json\n",
    "import torch\n",
    "import numpy as np\n",
    "from tqdm._tqdm_notebook import tqdm_notebook\n",
    "import matplotlib.pyplot as plt\n",
    "from matplotlib.lines import Line2D\n",
    "\n",
    "from Models.ActorCritic import ActorCritic\n",
    "from Models.SoftActorCritic import SoftActorCritic\n",
    "from Models.DDQN import DoubleDQN"
   ]
  },
  {
   "cell_type": "code",
   "execution_count": null,
   "metadata": {},
   "outputs": [],
   "source": [
    "torch.cuda.is_available()"
   ]
  },
  {
   "cell_type": "code",
   "execution_count": null,
   "metadata": {},
   "outputs": [],
   "source": [
    "f = open('Environment/env_config.json')\n",
    "env_variables = json.load(f)\n",
    "f.close"
   ]
  },
  {
   "cell_type": "code",
   "execution_count": null,
   "metadata": {},
   "outputs": [],
   "source": [
    "env = CustomEnvironment(env_config=env_variables, render_mode=\"human\")\n",
    "# env = parallel_env(render_mode=\"human\")\n",
    "# env.reset(seed=42)"
   ]
  },
  {
   "cell_type": "code",
   "execution_count": null,
   "metadata": {},
   "outputs": [],
   "source": [
    "import matplotlib.pyplot as plt \n",
    "from sklearn.preprocessing import MinMaxScaler\n",
    "mms = MinMaxScaler(feature_range=(0, 128))"
   ]
  },
  {
   "cell_type": "code",
   "execution_count": null,
   "metadata": {},
   "outputs": [],
   "source": [
    "ac_config = open('Environment/ac_config.json')\n",
    "ac_variables = json.load(ac_config)\n",
    "ac_config.close\n",
    "\n",
    "sac_config = open('Environment/sac_config.json')\n",
    "sac_variables = json.load(sac_config)\n",
    "sac_config.close\n",
    "\n",
    "ddqn_config = open('Environment/ddqn_config.json')\n",
    "ddqn_variables = json.load(ddqn_config)\n",
    "ddqn_config.close"
   ]
  },
  {
   "cell_type": "code",
   "execution_count": null,
   "metadata": {},
   "outputs": [],
   "source": [
    "ddqn_1 = DoubleDQN(ddqn_variables)\n",
    "ddqn_2 = DoubleDQN(ddqn_variables)\n",
    "ddqn_3 = DoubleDQN(ddqn_variables)\n",
    "# ac = ActorCritic(ac_variables)\n",
    "# sac = SoftActorCritic(sac_variables)"
   ]
  },
  {
   "cell_type": "code",
   "execution_count": null,
   "metadata": {},
   "outputs": [],
   "source": [
    "models = {0:ddqn_1, 1:ddqn_2, 2:ddqn_3}"
   ]
  },
  {
   "cell_type": "code",
   "execution_count": null,
   "metadata": {},
   "outputs": [],
   "source": [
    "def plot_grad_flow(named_parameters):\n",
    "    '''Plots the gradients flowing through different layers in the net during training.\n",
    "    Can be used for checking for possible gradient vanishing / exploding problems.\n",
    "    \n",
    "    Usage: Plug this function in Trainer class after loss.backwards() as \n",
    "    \"plot_grad_flow(self.model.named_parameters())\" to visualize the gradient flow'''\n",
    "    ave_grads = []\n",
    "    max_grads= []\n",
    "    layers = []\n",
    "    for i, p in enumerate(named_parameters):\n",
    "        if(p.requires_grad):\n",
    "            layers.append(i)\n",
    "            ave_grads.append(p.grad.cpu().abs().mean())\n",
    "            max_grads.append(p.grad.cpu().abs().max())\n",
    "    plt.bar(np.arange(len(max_grads)), max_grads, alpha=0.1, lw=1, color=\"c\")\n",
    "    plt.bar(np.arange(len(max_grads)), ave_grads, alpha=0.1, lw=1, color=\"b\")\n",
    "    plt.hlines(0, 0, len(ave_grads)+1, lw=2, color=\"k\" )\n",
    "    plt.xticks(range(0,len(ave_grads), 1), layers, rotation=\"vertical\")\n",
    "    plt.xlim(left=0, right=len(ave_grads))\n",
    "    plt.ylim(bottom = -0.001, top=0.02) # zoom in on the lower gradient regions\n",
    "    plt.xlabel(\"Layers\")\n",
    "    plt.ylabel(\"average gradient\")\n",
    "    plt.title(\"Gradient flow\")\n",
    "    plt.grid(True)\n",
    "    plt.legend([Line2D([0], [0], color=\"c\", lw=4),\n",
    "                Line2D([0], [0], color=\"b\", lw=4),\n",
    "                Line2D([0], [0], color=\"k\", lw=4)], ['max-gradient', 'mean-gradient', 'zero-gradient'])\n",
    "    plt.show()"
   ]
  },
  {
   "cell_type": "code",
   "execution_count": null,
   "metadata": {},
   "outputs": [],
   "source": [
    "episodes = 400\n",
    "\n",
    "for episode in tqdm_notebook(range(episodes)): #episodes loop\"\n",
    "\n",
    "    curr_obs,infos = env.reset() #reset environment after each episode\\n\",\n",
    "    # print(curr_obs[0][1])\n",
    "\n",
    "    losses = {}\n",
    "    while(env.agents): #until there are any surviving agents \n",
    "\n",
    "        actions = {}\n",
    "        log_probs = {}\n",
    "\n",
    "        for a in env.agents:\n",
    "            # print(curr_obs[a])\n",
    "            act, log_prob = models[a].select_action(state = torch.tensor(curr_obs[a], dtype = torch.float32))\n",
    "            actions[a] = act\n",
    "            log_probs[a] = log_prob\n",
    "\n",
    "        # for i in range(env.n_agents): #objects contains all of the models, get the corresponding actions from each policy\\n\",\n",
    "            \n",
    "        #     if i in env.agents:\n",
    "        #         act, log_prob = env.agents_objects[i].brain1.select_action(state = torch.tensor(curr_obs[i], dtype = torch.float32))\n",
    "        #         actions[i] = act\n",
    "        #         log_probs[i] = log_prob\n",
    "        #     else:\n",
    "        #         actions[i] = env.num_actions\n",
    "        #         log_probs[i] = 69\n",
    "            \n",
    "        # print(actions)\n",
    "\n",
    "        next_obs, rewards, terminations, truncations, infos = env.step(actions)\n",
    "        if env.timestep % 50 == 0:\n",
    "            # plot_grad_flow(models[0].policy_net.parameters())\n",
    "            print(rewards)\n",
    "        \n",
    "\n",
    "        for id, obs in next_obs.items():\n",
    "            models[id].push_to_buffer(torch.tensor(curr_obs[id], dtype = torch.float32),actions[id],rewards[id],torch.tensor(obs, dtype = torch.float32),log_probs[id],terminations[id])\n",
    "            loss = models[id].update_weights()\n",
    "\n",
    "            if(terminations[id] == True):\n",
    "                # loss = models[id].update_weights()\n",
    "                losses[id] = loss\n",
    "        \n",
    "        # for i in range(env.n_agents):\n",
    "\n",
    "        #     if i in env.agents:\n",
    "        #         env.agents_objects[i].brain1.push_to_buffer(torch.tensor(curr_obs[i], dtype = torch.float32),actions[i],rewards[i],torch.tensor(next_obs[i], dtype = torch.float32),log_probs[i],terminations[i])\n",
    "        #         env.agents_objects[i].brain1.update_weights() \n",
    "            \n",
    "        #     if i in env.justdie:\n",
    "        #         env.justdie[i].brain1.push_to_buffer(torch.tensor(curr_obs[i], dtype = torch.float32),actions[i],rewards[i],torch.tensor(next_obs[i], dtype = torch.float32),log_probs[i],terminations[i])\n",
    "        #         loss = env.justdie[i].brain1.update_weights() \n",
    "        #         del env.justdie[i]\n",
    "        #         losses[i] = loss\n",
    "        \n",
    "        curr_obs = next_obs\n",
    "\n",
    "    print(f\"Episode {episode} end\")\n",
    "    print(f\"Losses {losses}\")\n",
    "    print()\n",
    "    env.close()"
   ]
  },
  {
   "cell_type": "code",
   "execution_count": null,
   "metadata": {},
   "outputs": [],
   "source": [
    "models[0].steps_done"
   ]
  }
 ],
 "metadata": {
  "kernelspec": {
   "display_name": "RL",
   "language": "python",
   "name": "python3"
  },
  "language_info": {
   "codemirror_mode": {
    "name": "ipython",
    "version": 3
   },
   "file_extension": ".py",
   "mimetype": "text/x-python",
   "name": "python",
   "nbconvert_exporter": "python",
   "pygments_lexer": "ipython3",
   "version": "3.10.9"
  }
 },
 "nbformat": 4,
 "nbformat_minor": 2
}
