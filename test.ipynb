{
 "cells": [
  {
   "cell_type": "code",
   "execution_count": 2,
   "metadata": {},
   "outputs": [],
   "source": [
    "import functools\n",
    "import random\n",
    "from copy import copy\n",
    "\n",
    "import numpy as np\n",
    "from gymnasium.spaces import Discrete, MultiDiscrete,Box\n",
    "\n",
    "from pettingzoo import ParallelEnv"
   ]
  },
  {
   "cell_type": "code",
   "execution_count": 18,
   "metadata": {},
   "outputs": [],
   "source": [
    "a =Box(low = -1, high = 10,shape=(3,5,5),dtype=np.int32)"
   ]
  },
  {
   "cell_type": "code",
   "execution_count": 19,
   "metadata": {},
   "outputs": [
    {
     "data": {
      "text/plain": [
       "array([[[ 6, -1,  4,  9,  5],\n",
       "        [-1,  3,  6, -1, 10],\n",
       "        [ 4,  6, 10, -1,  6],\n",
       "        [ 6,  9,  0,  3, 10],\n",
       "        [ 4,  4,  7,  0,  2]],\n",
       "\n",
       "       [[-1,  4,  4, 10,  4],\n",
       "        [ 3,  5,  5,  2,  3],\n",
       "        [ 3,  0,  4,  4,  2],\n",
       "        [ 6,  1,  4,  5,  7],\n",
       "        [ 4,  9,  7,  1,  9]],\n",
       "\n",
       "       [[ 9,  9,  2,  8,  8],\n",
       "        [ 7,  0,  4, 10,  0],\n",
       "        [ 7,  2,  1,  1, 10],\n",
       "        [ 8,  5,  3,  1,  1],\n",
       "        [ 4,  1,  1,  9,  5]]])"
      ]
     },
     "execution_count": 19,
     "metadata": {},
     "output_type": "execute_result"
    }
   ],
   "source": [
    "a.sample()"
   ]
  }
 ],
 "metadata": {
  "kernelspec": {
   "display_name": "base",
   "language": "python",
   "name": "python3"
  },
  "language_info": {
   "codemirror_mode": {
    "name": "ipython",
    "version": 3
   },
   "file_extension": ".py",
   "mimetype": "text/x-python",
   "name": "python",
   "nbconvert_exporter": "python",
   "pygments_lexer": "ipython3",
   "version": "3.10.9"
  }
 },
 "nbformat": 4,
 "nbformat_minor": 2
}
