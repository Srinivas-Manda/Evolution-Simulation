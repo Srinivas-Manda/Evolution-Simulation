{
 "cells": [
  {
   "cell_type": "code",
   "execution_count": 4,
   "metadata": {},
   "outputs": [],
   "source": [
    "import functools\n",
    "import random\n",
    "from copy import copy\n",
    "\n",
    "import numpy as np\n",
    "from gymnasium.spaces import Discrete, MultiDiscrete,Box\n",
    "\n",
    "from pettingzoo import ParallelEnv"
   ]
  },
  {
   "cell_type": "code",
   "execution_count": 13,
   "metadata": {},
   "outputs": [],
   "source": [
    "points = set()\n",
    "while len(points) < 3:\n",
    "    point_x = np.random.rand(1) * 50\n",
    "    point_y = np.random.rand(1) * 100\n",
    "    points.add((point_x[0],point_y[0]))"
   ]
  },
  {
   "cell_type": "code",
   "execution_count": 8,
   "metadata": {},
   "outputs": [],
   "source": [
    "points = set()\n",
    "while len(points) < 10*10: # k means++ will handle this later\n",
    "    point_x = np.random.rand(1) * 50\n",
    "    point_y = np.random.rand(1) * 100\n",
    "    points.add((point_x[0],point_y[0]))\n",
    "\n",
    "points = [list(point) for point in points]\n",
    "points = np.array(points)"
   ]
  },
  {
   "cell_type": "code",
   "execution_count": 11,
   "metadata": {},
   "outputs": [
    {
     "data": {
      "text/plain": [
       "17"
      ]
     },
     "execution_count": 11,
     "metadata": {},
     "output_type": "execute_result"
    }
   ],
   "source": [
    "np.random.choice(range(len(points)))"
   ]
  },
  {
   "cell_type": "code",
   "execution_count": 14,
   "metadata": {},
   "outputs": [],
   "source": [
    "init_pellet = np.random.choice(range(len(points)))\n",
    "pellets = np.zeros((10, 2))\n",
    "pellets[0] = points[init_pellet]\n",
    "\n",
    "for i in range(1, 10):\n",
    "    distances = np.sqrt(((points - pellets[:i, np.newaxis])**2).sum(axis=2)).min(axis=0)\n",
    "    probs = distances ** 2\n",
    "    probs /= probs.sum(axis=0)\n",
    "    pellets[i] = points[np.random.choice(points.shape[0], p=probs)]"
   ]
  },
  {
   "cell_type": "code",
   "execution_count": 15,
   "metadata": {},
   "outputs": [
    {
     "data": {
      "text/plain": [
       "array([[31.32769448, 88.88833544],\n",
       "       [37.9550402 , 64.08630138],\n",
       "       [31.15606359, 43.58088267],\n",
       "       [10.44373947,  6.16272392],\n",
       "       [ 0.61747143, 66.25342468],\n",
       "       [15.40012455, 94.76509763],\n",
       "       [19.70821539, 23.84128834],\n",
       "       [39.46917177,  8.046697  ],\n",
       "       [ 1.75167968, 87.41484057],\n",
       "       [26.82578018, 55.13556023]])"
      ]
     },
     "execution_count": 15,
     "metadata": {},
     "output_type": "execute_result"
    }
   ],
   "source": [
    "pellets"
   ]
  }
 ],
 "metadata": {
  "kernelspec": {
   "display_name": "base",
   "language": "python",
   "name": "python3"
  },
  "language_info": {
   "codemirror_mode": {
    "name": "ipython",
    "version": 3
   },
   "file_extension": ".py",
   "mimetype": "text/x-python",
   "name": "python",
   "nbconvert_exporter": "python",
   "pygments_lexer": "ipython3",
   "version": "3.10.9"
  }
 },
 "nbformat": 4,
 "nbformat_minor": 2
}
